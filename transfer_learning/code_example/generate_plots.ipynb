{
 "cells": [
  {
   "cell_type": "code",
   "execution_count": 1,
   "metadata": {},
   "outputs": [],
   "source": [
    "from google.cloud import bigquery\n",
    "import os\n",
    "import pandas as pd\n",
    "import datetime\n",
    "import matplotlib.pyplot as plt\n",
    "import numpy as np"
   ]
  },
  {
   "cell_type": "code",
   "execution_count": 27,
   "metadata": {},
   "outputs": [
    {
     "name": "stderr",
     "output_type": "stream",
     "text": [
      "/home/raphi/.local/share/virtualenvs/code_example-tYeYzoY4/lib/python3.9/site-packages/google/auth/_default.py:81: UserWarning: Your application has authenticated using end user credentials from Google Cloud SDK without a quota project. You might receive a \"quota exceeded\" or \"API not enabled\" error. We recommend you rerun `gcloud auth application-default login` and make sure a quota project is added. Or you can use service accounts instead. For more information about service accounts, see https://cloud.google.com/docs/authentication/\n",
      "  warnings.warn(_CLOUD_SDK_CREDENTIALS_WARNING)\n",
      "/home/raphi/.local/share/virtualenvs/code_example-tYeYzoY4/lib/python3.9/site-packages/google/auth/_default.py:81: UserWarning: Your application has authenticated using end user credentials from Google Cloud SDK without a quota project. You might receive a \"quota exceeded\" or \"API not enabled\" error. We recommend you rerun `gcloud auth application-default login` and make sure a quota project is added. Or you can use service accounts instead. For more information about service accounts, see https://cloud.google.com/docs/authentication/\n",
      "  warnings.warn(_CLOUD_SDK_CREDENTIALS_WARNING)\n"
     ]
    }
   ],
   "source": [
    "client = bigquery.Client()"
   ]
  },
  {
   "cell_type": "code",
   "execution_count": 50,
   "metadata": {},
   "outputs": [],
   "source": [
    "from_dt = datetime.datetime(2022,3,15)  # START-DT VALIDATION-PERIOD (AT LEAST TWO WEEKS)\n",
    "to_dt =datetime.datetime(2022,3,30) # END-DT VALIDATION PERIOD (AT LEAST TWO WEEKS)\n",
    "baseline_model_name=\"model_20220503_121243_long\"  # PROVIDE NAME OF BIGQUERY-TABLE CONTAINING THE BASELINE-MODEL (LONG-FORMAT) \n",
    "evaluation_model_name=\"model_20220610_090954_long\"  # PROVIDE NAME OF BIGQUERY-TABLE CONTAINING THE MODEL, WHICH SHOULD BE EVALUATED (LONG-FORMAT) \n",
    "data_size = 0 # if 0 --> load all data; else limit data to data_size"
   ]
  },
  {
   "cell_type": "code",
   "execution_count": 31,
   "metadata": {},
   "outputs": [],
   "source": [
    "def load_data_from_bigquery(query_generator, project_id='adtrac-data-and-analytics'):\n",
    "    \"\"\"\n",
    "        Collect Data from BigQuery, store it locally\n",
    "        Return Pandas Dataframe\n",
    "    \"\"\"\n",
    "\n",
    "    # _set_gcp_credentials()\n",
    "    bigquery_client = bigquery.Client(project=project_id)\n",
    "\n",
    "    query = query_generator()\n",
    "    # Collect data from BigQuery\n",
    "    query_job = bigquery_client.query(query)\n",
    "    df = query_job.to_dataframe()\n",
    "    print('Successfully collected data from BigQuery.')\n",
    "\n",
    "    return df"
   ]
  },
  {
   "cell_type": "code",
   "execution_count": 59,
   "metadata": {},
   "outputs": [],
   "source": [
    "def load_data_by_partition(from_dt, to_dt, baseline_model_name, evaluation_model_name, data_size):\n",
    "    \"\"\"\n",
    "        Load the data from using the BigQuery-connector\n",
    "        use partitions of 2 days since the load of data is heavy\n",
    "    \"\"\"\n",
    "\n",
    "    columns = ['calendar_dt', 'hour_local', 'calendar_dt_hour', 'poi_id', 'provider_id', 'target_group_id',\n",
    "               'desc_gender', 'desc_age', 'min_age', 'age_bucketized', 'is_special_dt',\n",
    "               'is_open', 'is_in_validation', 'num_tracking',\n",
    "               'prediction_type_baseline', 'prediction_type_evaluation',\n",
    "               'prediction_baseline', 'prediction_evaluation']\n",
    "    base_df = pd.DataFrame(columns=columns)  # empty dataframe, which will be filled iteratively\n",
    "\n",
    "    partitions = pd.date_range(start=from_dt, end=to_dt, freq='2D').to_list()\n",
    "\n",
    "    # create partitions\n",
    "    for idx in range(len(partitions)):\n",
    "        start_dt = str(partitions[idx].date())\n",
    "        print(\"partition start_dt\", start_dt)\n",
    "        if idx < len(partitions) - 1:\n",
    "            end_dt = partitions[idx + 1] - datetime.timedelta(days=1)\n",
    "        else:\n",
    "            end_dt = to_dt\n",
    "        end_dt = str(end_dt.date())\n",
    "        print(\"partition end_dt\", end_dt)\n",
    "\n",
    "        base_df_new_partition = load_data_from_bigquery(\n",
    "            _create_pre_update_sql(start_dt, end_dt, data_size))\n",
    "\n",
    "        base_df = pd.concat([base_df, base_df_new_partition])\n",
    "\n",
    "    return base_df\n"
   ]
  },
  {
   "cell_type": "code",
   "execution_count": 53,
   "metadata": {},
   "outputs": [],
   "source": [
    "def _create_year_week_sql(from_dt, to_dt, baseline_model_name, evaluation_model_name, data_size):\n",
    "    \"\"\"\n",
    "        Create query_string\n",
    "        Calculate averages for records not in the baseline- and/or evaluation-model\n",
    "        Only provider_id 6\n",
    "        Only opening-hours (special_dts already taken into account)\n",
    "        Only values where the evaluation-model is applicable\n",
    "        Aggregates actual_values and predictions per year_week between from_dt and to_dt\n",
    "        Return query_string\n",
    "    \"\"\"\n",
    "\n",
    "    query = f\"\"\"\n",
    "    with \n",
    "date_filter as\n",
    "(\n",
    "select event_dt from  unnest(generate_date_array(Date \"{from_dt}\", date \"{to_dt}\")) as event_dt\n",
    "),\n",
    "actual_trackings as \n",
    "(\n",
    "select calendar_dt, hour_local,poi_id, provider_id, target_group_id, num_tracking from `aggregates.trackings_aggregated_1H` tr\n",
    "join date_filter df on tr.calendar_dt = df.event_dt\n",
    "),\n",
    "opening_hours as\n",
    "(\n",
    "  select poi_id, provider_id, dayofweek, open_hour from (\n",
    "    select open.poi_id, open.provider_id, dayofweek, open_hour  from `configurations.opening_hours` open cross join            unnest(open.open_hours) as  open_hour ) \n",
    "\n",
    "), special_dt as \n",
    "(\n",
    "  select poi_id, provider_id, calendar_dt as special_dt from `adtrac-data-and-analytics.configurations.special_opening_hours`\n",
    "  group by poi_id, provider_id, calendar_dt\n",
    "\n",
    "),model_baseline as\n",
    "(\n",
    "select pred.* from `models.{baseline_model_name}` pred\n",
    "join date_filter df on pred.calendar_dt = df.event_dt\n",
    "),model_evaluation as\n",
    "(\n",
    "select pred.* from `adtrac-data-and-analytics.models.{evaluation_model_name}`  pred\n",
    "join date_filter df on pred.calendar_dt = df.event_dt\n",
    "),relevant_pois\n",
    "as\n",
    "    (\n",
    "select poi_id, provider_id from `configurations.pois` pois \n",
    "where pois.inactive = 0\n",
    "), lhs as (\n",
    "select date.calendar_dt,hour.hour_local ,poi.poi_id, poi.provider_id, tgt.target_group_id  from \n",
    "(select calendar_dt from unnest(GENERATE_DATE_ARRAY('{from_dt}', '{to_dt}', INTERVAL 1 DAY)) as calendar_dt) date\n",
    "cross join `configurations.target_groups` tgt\n",
    "cross join (select hour_local from unnest(generate_array(0,23,1)) as hour_local)  hour\n",
    "join (select pois.poi_id, pois.provider_id,sites.batch_import_dt  from `configurations.pois` pois \n",
    "      join `configurations.sites` sites on pois.site_id = sites.site_id and pois.provider_id= sites.provider_id) poi on date.calendar_dt >= poi.batch_import_dt \n",
    "join relevant_pois on poi.poi_id = relevant_pois.poi_id  and poi.provider_id = relevant_pois.provider_id \n",
    "),base_table as\n",
    "(\n",
    "  select base.calendar_dt, base.hour_local,\n",
    "  concat(cast(calendar_dt as string),\" \", cast(format(\"%02d\", hour_local) as String),\":00\") as calendar_dt_hour,\n",
    "  CAST(FORMAT_DATE('%u',  base.calendar_dt) AS NUMERIC) -1 as dayofweek, format_date('%Y%m', calendar_dt) as year_month,format_date('%Y%W', calendar_dt) as year_week, base.poi_id, base.provider_id, base.target_group_id, pm.inactive, \n",
    "  pm.poi_name, pm.provider_name, pm.site_name, pm.state_code , pm.country_code ,\n",
    "  pm.poi_id_name,\n",
    "  tgt.desc_gender, tgt.desc_age , tgt.min_age,\n",
    "  case when tgt.min_age is null then 'unknown'\n",
    "       when tgt.min_age >= 0 and tgt.min_age<= 10 then 'kids'\n",
    "       when tgt.min_age between 15 and 30 then 'young_adults'\n",
    "       when tgt.min_age between 35 and 60 then 'adults'\n",
    "       when tgt.min_age >= 65 then 'pensioner'\n",
    "       end as age_bucketized\n",
    "    , case when sp.special_dt is not null then 1 else 0 end as is_special_dt\n",
    "    , case when open_hour.open_hour is not null and  sp.special_dt is null then 1 else 0 end is_open -- takes opening-hours and special-dt into account\n",
    "  from lhs base \n",
    "  join date_filter df on base.calendar_dt = df.event_dt\n",
    "  join `adtrac-data-and-analytics.configurations.poi_mapping` pm on base.poi_id = pm.poi_id and base.provider_id = pm.provider_id and pm.inactive = 0\n",
    "   join `configurations.target_groups` tgt on tgt.target_group_id = base.target_group_id\n",
    "left join opening_hours open_hour on open_hour.poi_id = base.poi_id and open_hour.provider_id = base.provider_id and open_hour.dayofweek = CAST(FORMAT_DATE('%u',  base.calendar_dt) AS NUMERIC) -1 and open_hour.open_hour = base.hour_local\n",
    "left join special_dt as sp on sp.poi_id = base.poi_id and sp.provider_id = base.provider_id and sp.special_dt  = base.calendar_dt\n",
    "where base.provider_id in (6)\n",
    "),model_baseline_prediction as \n",
    "(\n",
    "select base.calendar_dt,base.hour_local, base.poi_id, base.provider_id, base.target_group_id,\n",
    "case when ml.prediction is null then 'average' else 'prediction' end as prediction_type,\n",
    "case when base.is_open = 0 then coalesce(ml.prediction,0)\n",
    "    when base.is_open = 1 then coalesce(coalesce(ml.prediction,l.avg_prediction_provider),0)\n",
    "    end as prediction\n",
    "from base_table  base\n",
    "left join model_baseline ml \n",
    "   on ml.calendar_dt = base.calendar_dt \n",
    "    and ml.poi_id = base.poi_id \n",
    "    and ml.provider_id = base.provider_id \n",
    "    and ml.hour_local = base.hour_local \n",
    "    and ml.target_group_id = base.target_group_id\n",
    "left join (select calendar_dt, hour_local, m.provider_id, target_group_id, round(avg(prediction)) as avg_prediction_provider from model_baseline m\n",
    "        join opening_hours open_hour on open_hour.poi_id = m.poi_id and open_hour.provider_id = m.provider_id and open_hour.dayofweek = CAST(FORMAT_DATE('%u',  m.calendar_dt) AS NUMERIC) -1 and open_hour.open_hour = m.hour_local\n",
    "\n",
    "  group by calendar_dt, hour_local, provider_id, target_group_id ) l\n",
    "  on base.calendar_dt = l.calendar_dt\n",
    "    and base.hour_local = l.hour_local\n",
    "    and base.provider_id = l.provider_id\n",
    "    and base.target_group_id = l.target_group_id \n",
    ") ,model_evaluation_prediction as \n",
    "(\n",
    "select base.calendar_dt,base.hour_local, base.poi_id, base.provider_id, base.target_group_id,\n",
    "case when ml.prediction is null then 'average' else 'prediction' end as prediction_type,\n",
    "case when base.is_open = 0 then coalesce(ml.prediction,0)\n",
    "    when base.is_open = 1 then coalesce(coalesce(ml.prediction,l.avg_prediction_provider),0) \n",
    "    end as prediction\n",
    "from base_table  base\n",
    "left join model_evaluation ml \n",
    "   on ml.calendar_dt = base.calendar_dt \n",
    "    and ml.poi_id = base.poi_id \n",
    "    and ml.provider_id = base.provider_id \n",
    "    and ml.hour_local = base.hour_local \n",
    "    and ml.target_group_id = base.target_group_id\n",
    "left join (select calendar_dt, hour_local, m.provider_id, target_group_id, round(avg(prediction)) as avg_prediction_provider from model_evaluation m\n",
    "        join opening_hours open_hour on open_hour.poi_id = m.poi_id and open_hour.provider_id = m.provider_id and open_hour.dayofweek = CAST(FORMAT_DATE('%u',  m.calendar_dt) AS NUMERIC) -1 and open_hour.open_hour = m.hour_local\n",
    "\n",
    "  group by calendar_dt, hour_local, provider_id, target_group_id ) l\n",
    "  on base.calendar_dt = l.calendar_dt\n",
    "    and base.hour_local = l.hour_local\n",
    "    and base.provider_id = l.provider_id\n",
    "    and base.target_group_id = l.target_group_id \n",
    "),complete_data as (\n",
    " select base.year_week , base.calendar_dt, base.hour_local, base.calendar_dt_hour ,base.poi_id, base.provider_id, base.target_group_id, base.desc_gender, base.min_age, base.age_bucketized, base.is_special_dt, base.is_open\n",
    ",mb.prediction_type as prediction_type_baseline\n",
    ",me.prediction_type as prediction_type_evaluation\n",
    ", case when is_open = 1 then  tr.num_tracking else 0 end as num_tracking --set value to 0 outside opening-hours\n",
    ", case when is_open = 1 then mb.prediction else 0 end as prediction_baseline --set value to 0 outside opening-hours\n",
    ", case when is_open = 1 then me.prediction else 0 end as prediction_evaluation --set value to 0 outside opening-hours\n",
    "from base_table base\n",
    "left join actual_trackings tr \n",
    "  on tr.calendar_dt = base.calendar_dt \n",
    "  and tr.hour_local = base.hour_local \n",
    "  and tr.poi_id = base.poi_id \n",
    "  and tr.provider_id =  base.provider_id \n",
    "  and tr.target_group_id = base.target_group_id \n",
    "left join model_baseline_prediction mb \n",
    "   on mb.calendar_dt = base.calendar_dt \n",
    "  and mb.hour_local = base.hour_local \n",
    "  and mb.poi_id = base.poi_id \n",
    "  and mb.provider_id =  base.provider_id \n",
    "  and mb.target_group_id = base.target_group_id  \n",
    "left join model_evaluation_prediction me\n",
    "on me.calendar_dt = base.calendar_dt \n",
    "  and me.hour_local = base.hour_local \n",
    "  and me.poi_id = base.poi_id \n",
    "  and me.provider_id =  base.provider_id \n",
    "  and me.target_group_id = base.target_group_id  \n",
    ")  \n",
    "select year_week ,sum(num_tracking) as num_tracking, sum(prediction_baseline) as prediction_baseline , sum(prediction_evaluation) as prediction_evaluation from complete_data\n",
    "where is_open = 1\n",
    "and target_group_id <> 41\n",
    "and prediction_type_evaluation = 'prediction'\n",
    "group by year_week \n",
    "order by 1\n",
    "\n",
    "\n",
    "\n",
    "\"\"\"\n",
    "    if data_size > 0:\n",
    "        query = query + f\"\"\" limit {data_size} \"\"\"\n",
    "    return query"
   ]
  },
  {
   "cell_type": "code",
   "execution_count": 54,
   "metadata": {},
   "outputs": [],
   "source": [
    "def _create_base_sql(from_dt, to_dt, baseline_model_name, evaluation_model_name, data_size):\n",
    "    \"\"\"\n",
    "        Create query_string\n",
    "        Calculate averages for records not in the baseline- and/or evaluation-model\n",
    "        Only provider_id 6\n",
    "        Only opening-hours (special_dts already taken into account)\n",
    "        Only values where the evaluation-model is applicable\n",
    "        Return query_string\n",
    "    \"\"\"\n",
    "\n",
    "    query = f\"\"\"\n",
    "    with \n",
    "validation_date_filter as\n",
    "(\n",
    "select Date \"{from_dt}\" as from_dt , Date \"{to_dt}\" as to_dt\n",
    "),\n",
    "actual_trackings as \n",
    "(\n",
    "select calendar_dt, hour_local,poi_id, provider_id, target_group_id, num_tracking from `aggregates.trackings_aggregated_1H` tr\n",
    "join  validation_date_filter df on tr.calendar_dt between df.from_dt and df.to_dt\n",
    "), opening_hours as\n",
    "(\n",
    "  select poi_id, provider_id, dayofweek, open_hour from (\n",
    "    select open.poi_id, open.provider_id, dayofweek, open_hour  from `configurations.opening_hours` open cross join            unnest(open.open_hours) as  open_hour ) \n",
    "\n",
    "), special_dt as \n",
    "(\n",
    "  select poi_id, provider_id, calendar_dt as special_dt from `adtrac-data-and-analytics.configurations.special_opening_hours`\n",
    "  group by poi_id, provider_id, calendar_dt\n",
    "\n",
    "),model_baseline as\n",
    "(\n",
    "select pred.* from `models.{baseline_model_name}` pred\n",
    "join  validation_date_filter df on pred.calendar_dt between df.from_dt and df.to_dt\n",
    "),model_evaluation as\n",
    "(\n",
    "select pred.* from `adtrac-data-and-analytics.models.{evaluation_model_name}`  pred\n",
    "join  validation_date_filter df on pred.calendar_dt between df.from_dt and df.to_dt\n",
    "),relevant_pois\n",
    "as\n",
    "    (\n",
    "select poi_id, provider_id from `configurations.pois` pois \n",
    "where pois.inactive = 0\n",
    "), lhs as (\n",
    "select date.calendar_dt,hour.hour_local ,poi.poi_id, poi.provider_id, tgt.target_group_id  from \n",
    "(select calendar_dt from unnest(GENERATE_DATE_ARRAY('{from_dt}', '{to_dt}', INTERVAL 1 DAY)) as calendar_dt) date\n",
    "cross join `configurations.target_groups` tgt\n",
    "cross join (select hour_local from unnest(generate_array(0,23,1)) as hour_local)  hour\n",
    "join (select pois.poi_id, pois.provider_id,sites.batch_import_dt  from `configurations.pois` pois \n",
    "      join `configurations.sites` sites on pois.site_id = sites.site_id and pois.provider_id= sites.provider_id) poi on date.calendar_dt >= poi.batch_import_dt \n",
    "join relevant_pois on poi.poi_id = relevant_pois.poi_id  and poi.provider_id = relevant_pois.provider_id \n",
    "),base_table as\n",
    "(\n",
    "  select base.calendar_dt, base.hour_local,\n",
    "  concat(cast(calendar_dt as string),\" \", cast(format(\"%02d\", hour_local) as String),\":00\") as calendar_dt_hour,\n",
    "  CAST(FORMAT_DATE('%u',  base.calendar_dt) AS NUMERIC) -1 as dayofweek, format_date('%Y%m', calendar_dt) as year_month,format_date('%Y%W', calendar_dt) as year_week, base.poi_id, base.provider_id, base.target_group_id, pm.inactive, \n",
    "  pm.poi_name, pm.provider_name, pm.site_name, pm.state_code , pm.country_code ,\n",
    "  pm.poi_id_name,\n",
    "  tgt.desc_gender, tgt.desc_age , tgt.min_age,\n",
    "  case when tgt.min_age is null then 'unknown'\n",
    "       when tgt.min_age >= 0 and tgt.min_age<= 10 then 'kids'\n",
    "       when tgt.min_age between 15 and 30 then 'young_adults'\n",
    "       when tgt.min_age between 35 and 60 then 'adults'\n",
    "       when tgt.min_age >= 65 then 'pensioner'\n",
    "       end as age_bucketized\n",
    "    , case when sp.special_dt is not null then 1 else 0 end as is_special_dt\n",
    "    , case when open_hour.open_hour is not null and  sp.special_dt is null then 1 else 0 end is_open -- takes opening-hours and special-dt into account\n",
    "  ,validation_date_filter.from_dt as validation_from_dt, validation_date_filter.to_dt as validation_to_dt\n",
    "  , case when calendar_dt between validation_date_filter.from_dt and  validation_date_filter.to_dt then 1 else 0 end as is_in_validation\n",
    "  from lhs base \n",
    "  join validation_date_filter df on base.calendar_dt between df.from_dt and df.to_dt\n",
    "  join `adtrac-data-and-analytics.configurations.poi_mapping` pm on base.poi_id = pm.poi_id and base.provider_id = pm.provider_id and pm.inactive = 0\n",
    "   join `configurations.target_groups` tgt on tgt.target_group_id = base.target_group_id\n",
    "left join opening_hours open_hour on open_hour.poi_id = base.poi_id and open_hour.provider_id = base.provider_id and open_hour.dayofweek = CAST(FORMAT_DATE('%u',  base.calendar_dt) AS NUMERIC) -1 and open_hour.open_hour = base.hour_local\n",
    "left join special_dt as sp on sp.poi_id = base.poi_id and sp.provider_id = base.provider_id and sp.special_dt  = base.calendar_dt\n",
    "cross join validation_date_filter \n",
    "where base.provider_id in (6)\n",
    "),model_baseline_prediction as \n",
    "(\n",
    "select base.calendar_dt,base.hour_local, base.poi_id, base.provider_id, base.target_group_id,\n",
    "case when ml.prediction is null then 'average' else 'prediction' end as prediction_type,\n",
    "case when base.is_open = 0 then coalesce(ml.prediction,0)\n",
    "    when base.is_open = 1 then coalesce(coalesce(ml.prediction,l.avg_prediction_provider),0)\n",
    "    end as prediction\n",
    "from base_table  base\n",
    "left join model_baseline ml \n",
    "   on ml.calendar_dt = base.calendar_dt \n",
    "    and ml.poi_id = base.poi_id \n",
    "    and ml.provider_id = base.provider_id \n",
    "    and ml.hour_local = base.hour_local \n",
    "    and ml.target_group_id = base.target_group_id\n",
    "left join (select calendar_dt, hour_local, m.provider_id, target_group_id, round(avg(prediction)) as avg_prediction_provider from model_baseline m\n",
    "        join opening_hours open_hour on open_hour.poi_id = m.poi_id and open_hour.provider_id = m.provider_id and open_hour.dayofweek = CAST(FORMAT_DATE('%u',  m.calendar_dt) AS NUMERIC) -1 and open_hour.open_hour = m.hour_local\n",
    "\n",
    "  group by calendar_dt, hour_local, provider_id, target_group_id ) l\n",
    "  on base.calendar_dt = l.calendar_dt\n",
    "    and base.hour_local = l.hour_local\n",
    "    and base.provider_id = l.provider_id\n",
    "    and base.target_group_id = l.target_group_id \n",
    ") ,model_evaluation_prediction as \n",
    "(\n",
    "select base.calendar_dt,base.hour_local, base.poi_id, base.provider_id, base.target_group_id,\n",
    "case when ml.prediction is null then 'average' else 'prediction' end as prediction_type,\n",
    "case when base.is_open = 0 then coalesce(ml.prediction,0)\n",
    "    when base.is_open = 1 then coalesce(coalesce(ml.prediction,l.avg_prediction_provider),0) \n",
    "    end as prediction\n",
    "from base_table  base\n",
    "left join model_evaluation ml \n",
    "   on ml.calendar_dt = base.calendar_dt \n",
    "    and ml.poi_id = base.poi_id \n",
    "    and ml.provider_id = base.provider_id \n",
    "    and ml.hour_local = base.hour_local \n",
    "    and ml.target_group_id = base.target_group_id\n",
    "left join (select calendar_dt, hour_local, m.provider_id, target_group_id, round(avg(prediction)) as avg_prediction_provider from model_evaluation m\n",
    "        join opening_hours open_hour on open_hour.poi_id = m.poi_id and open_hour.provider_id = m.provider_id and open_hour.dayofweek = CAST(FORMAT_DATE('%u',  m.calendar_dt) AS NUMERIC) -1 and open_hour.open_hour = m.hour_local\n",
    "\n",
    "  group by calendar_dt, hour_local, provider_id, target_group_id ) l\n",
    "  on base.calendar_dt = l.calendar_dt\n",
    "    and base.hour_local = l.hour_local\n",
    "    and base.provider_id = l.provider_id\n",
    "    and base.target_group_id = l.target_group_id \n",
    "),complete_data as (\n",
    " select base.calendar_dt, base.hour_local, base.calendar_dt_hour ,base.poi_id, base.provider_id, base.target_group_id, base.desc_gender, base.min_age, base.age_bucketized, base.is_special_dt, base.is_open\n",
    ",mb.prediction_type as prediction_type_baseline\n",
    ",me.prediction_type as prediction_type_evaluation\n",
    ", case when is_open = 1 then  tr.num_tracking else 0 end as num_tracking --set value to 0 outside opening-hours\n",
    ", case when is_open = 1 then mb.prediction else 0 end as prediction_baseline --set value to 0 outside opening-hours\n",
    ", case when is_open = 1 then me.prediction else 0 end as prediction_evaluation --set value to 0 outside opening-hours\n",
    "from base_table base\n",
    "left join actual_trackings tr \n",
    "  on tr.calendar_dt = base.calendar_dt \n",
    "  and tr.hour_local = base.hour_local \n",
    "  and tr.poi_id = base.poi_id \n",
    "  and tr.provider_id =  base.provider_id \n",
    "  and tr.target_group_id = base.target_group_id \n",
    "left join model_baseline_prediction mb \n",
    "   on mb.calendar_dt = base.calendar_dt \n",
    "  and mb.hour_local = base.hour_local \n",
    "  and mb.poi_id = base.poi_id \n",
    "  and mb.provider_id =  base.provider_id \n",
    "  and mb.target_group_id = base.target_group_id  \n",
    "left join model_evaluation_prediction me\n",
    "on me.calendar_dt = base.calendar_dt \n",
    "  and me.hour_local = base.hour_local \n",
    "  and me.poi_id = base.poi_id \n",
    "  and me.provider_id =  base.provider_id \n",
    "  and me.target_group_id = base.target_group_id  \n",
    ")  \n",
    "select * from complete_data\n",
    "where is_open = 1\n",
    "and prediction_type_evaluation = 'prediction'\n",
    "\n",
    "\"\"\"\n",
    "    if data_size > 0:\n",
    "        query = query + f\"\"\" limit {data_size} \"\"\"\n",
    "    return query\n"
   ]
  },
  {
   "cell_type": "code",
   "execution_count": 58,
   "metadata": {},
   "outputs": [],
   "source": [
    "def _create_pre_update_sql(from_dt, to_dt, data_size):\n",
    "\n",
    "    query = f\"\"\"\n",
    "    with \n",
    "validation_date_filter as\n",
    "(\n",
    "select Date \"{from_dt}\" as from_dt , Date \"{to_dt}\" as to_dt\n",
    "),\n",
    "actual_trackings as \n",
    "(\n",
    "select calendar_dt, hour_local,poi_id, provider_id, target_group_id, num_tracking from `aggregates.trackings_aggregated_1H` tr\n",
    "join  validation_date_filter df on tr.calendar_dt between df.from_dt and df.to_dt\n",
    "), opening_hours as\n",
    "(\n",
    "  select poi_id, provider_id, dayofweek, open_hour from (\n",
    "    select open.poi_id, open.provider_id, dayofweek, open_hour  from `configurations.opening_hours` open cross join            unnest(open.open_hours) as  open_hour ) \n",
    "\n",
    "), special_dt as \n",
    "(\n",
    "  select poi_id, provider_id, calendar_dt as special_dt from `adtrac-data-and-analytics.configurations.special_opening_hours`\n",
    "  group by poi_id, provider_id, calendar_dt\n",
    "\n",
    "),relevant_pois\n",
    "as\n",
    "    (\n",
    "select poi_id, provider_id from `configurations.pois` pois \n",
    "where pois.inactive = 0\n",
    "), lhs as (\n",
    "select date.calendar_dt,hour.hour_local ,poi.poi_id, poi.provider_id, tgt.target_group_id  from \n",
    "(select calendar_dt from unnest(GENERATE_DATE_ARRAY('{from_dt}', '{to_dt}', INTERVAL 1 DAY)) as calendar_dt) date\n",
    "cross join `configurations.target_groups` tgt\n",
    "cross join (select hour_local from unnest(generate_array(0,23,1)) as hour_local)  hour\n",
    "join (select pois.poi_id, pois.provider_id,sites.batch_import_dt  from `configurations.pois` pois \n",
    "      join `configurations.sites` sites on pois.site_id = sites.site_id and pois.provider_id= sites.provider_id) poi on date.calendar_dt >= poi.batch_import_dt \n",
    "join relevant_pois on poi.poi_id = relevant_pois.poi_id  and poi.provider_id = relevant_pois.provider_id \n",
    "),base_table as\n",
    "(\n",
    "  select base.calendar_dt, base.hour_local,\n",
    "  concat(cast(calendar_dt as string),\" \", cast(format(\"%02d\", hour_local) as String),\":00\") as calendar_dt_hour,\n",
    "  CAST(FORMAT_DATE('%u',  base.calendar_dt) AS NUMERIC) -1 as dayofweek, format_date('%Y%m', calendar_dt) as year_month,format_date('%Y%W', calendar_dt) as year_week, base.poi_id, base.provider_id, base.target_group_id, pm.inactive, \n",
    "  pm.poi_name, pm.provider_name, pm.site_name, pm.state_code , pm.country_code ,\n",
    "  pm.poi_id_name,\n",
    "  tgt.desc_gender, tgt.desc_age , tgt.min_age,\n",
    "  case when tgt.min_age is null then 'unknown'\n",
    "       when tgt.min_age >= 0 and tgt.min_age<= 10 then 'kids'\n",
    "       when tgt.min_age between 15 and 30 then 'young_adults'\n",
    "       when tgt.min_age between 35 and 60 then 'adults'\n",
    "       when tgt.min_age >= 65 then 'pensioner'\n",
    "       end as age_bucketized\n",
    "    , case when sp.special_dt is not null then 1 else 0 end as is_special_dt\n",
    "    , case when open_hour.open_hour is not null and  sp.special_dt is null then 1 else 0 end is_open -- takes opening-hours and special-dt into account\n",
    "  ,validation_date_filter.from_dt as validation_from_dt, validation_date_filter.to_dt as validation_to_dt\n",
    "  , case when calendar_dt between validation_date_filter.from_dt and  validation_date_filter.to_dt then 1 else 0 end as is_in_validation\n",
    "  from lhs base \n",
    "  join validation_date_filter df on base.calendar_dt between df.from_dt and df.to_dt\n",
    "  join `adtrac-data-and-analytics.configurations.poi_mapping` pm on base.poi_id = pm.poi_id and base.provider_id = pm.provider_id and pm.inactive = 0\n",
    "   join `configurations.target_groups` tgt on tgt.target_group_id = base.target_group_id\n",
    "left join opening_hours open_hour on open_hour.poi_id = base.poi_id and open_hour.provider_id = base.provider_id and open_hour.dayofweek = CAST(FORMAT_DATE('%u',  base.calendar_dt) AS NUMERIC) -1 and open_hour.open_hour = base.hour_local\n",
    "left join special_dt as sp on sp.poi_id = base.poi_id and sp.provider_id = base.provider_id and sp.special_dt  = base.calendar_dt\n",
    "cross join validation_date_filter \n",
    "where base.provider_id in (6)\n",
    "), complete_data as (\n",
    " select base.calendar_dt, base.hour_local, base.calendar_dt_hour ,base.poi_id, base.provider_id, base.target_group_id, base.desc_gender, base.min_age, base.age_bucketized, base.is_special_dt, base.is_open\n",
    "\n",
    ", case when is_open = 1 then  tr.num_tracking else 0 end as num_tracking --set value to 0 outside opening-hours\n",
    "from base_table base\n",
    "left join actual_trackings tr \n",
    "  on tr.calendar_dt = base.calendar_dt \n",
    "  and tr.hour_local = base.hour_local \n",
    "  and tr.poi_id = base.poi_id \n",
    "  and tr.provider_id =  base.provider_id \n",
    "  and tr.target_group_id = base.target_group_id \n",
    ")  \n",
    "select * from complete_data\n",
    "where is_open = 1\n",
    "\n",
    "\"\"\"\n",
    "    if data_size > 0:\n",
    "        query = query + f\"\"\" limit {data_size} \"\"\"\n",
    "    return query\n"
   ]
  },
  {
   "cell_type": "code",
   "execution_count": 33,
   "metadata": {},
   "outputs": [],
   "source": [
    "def _create_update_sql():\n",
    "    sql = f\"\"\"with raw_data as (\n",
    "    select tr.*, tg.desc_gender , tg.min_age,  format_date('%G%V', tr.calendar_dt) as year_week from `adtrac-data-and-analytics.aggregates.trackings_aggregated_1H` tr\n",
    "    join `adtrac-data-and-analytics.configurations.poi_mapping` pm on tr.poi_id = pm.poi_id and pm.provider_id = 6 and pm.inactive = 0 and pm.batch_import_dt <= \"2022-03-01\"\n",
    "    join (select distinct poi_id  as poi_id from models.model_20220610_090954_long) ml on ml.poi_id = pm.poi_id \n",
    "    join `adtrac-data-and-analytics.configurations.target_groups` tg on tr.target_group_id = tg.target_group_id\n",
    "    join (select poi_id, provider_id, dayofweek, open_hour from (\n",
    "                        select open.poi_id, open.provider_id, dayofweek, open_hour  from `configurations.opening_hours` open cross join            unnest(open.open_hours) as  open_hour ) \n",
    "                        ) open_hour on open_hour.poi_id = tr.poi_id and open_hour.provider_id = tr.provider_id and open_hour.dayofweek= CAST(FORMAT_DATE('%u',  tr.calendar_dt) AS NUMERIC) -1 and open_hour.open_hour = tr.hour_local\n",
    "    where tr.calendar_dt between \"2022-03-07\" and \"2022-05-29\"\n",
    "        )\n",
    "    select calendar_dt,year_week, sum(num_tracking) as num_tracking,sum(case when min_age >= 50 then num_tracking else 0 end) as num_above_50, sum(case when target_group_id <> 41 then num_tracking else 0 end) as num_actuals, count(distinct poi_id) as num_pois from raw_data\n",
    "    group by 1,2\n",
    "    order by 1,2\n",
    "    \"\"\"\n",
    "    return sql"
   ]
  },
  {
   "cell_type": "code",
   "execution_count": 34,
   "metadata": {},
   "outputs": [],
   "source": [
    "def load_data(from_dt, to_dt, baseline_model_name, evaluation_model_name, data_size=0):\n",
    "    \"\"\"\n",
    "        Main function for loading and modify data\n",
    "        Returns finalized dataframe including error-columns and all fixes\n",
    "    \"\"\"\n",
    "    base_df = load_data_by_partition(from_dt, to_dt, baseline_model_name, evaluation_model_name, data_size)\n",
    "    # filename_base=os.path.join(\"data\",\"base_data_validation_\"+current_dt+\".csv\")\n",
    "    # base_df.to_csv(filename_base)\n",
    "    \n",
    "    transformed_df = base_df.copy()\n",
    "    transformed_df['gender_age']=transformed_df.apply(lambda x: str(x.desc_gender) +'_'+'{0:0>2}'.format(str(int(np.nan_to_num(x.min_age)))),axis=1)\n",
    "    \n",
    "    return transformed_df"
   ]
  },
  {
   "cell_type": "code",
   "execution_count": 56,
   "metadata": {},
   "outputs": [],
   "source": [
    "def load_year_week_data(from_dt, to_dt, baseline_model_name, evaluation_model_name, data_size=0):\n",
    "    \"\"\"\n",
    "        Load actual_values and predictions (baseline_model_name,evaluation_model_name) between from_dt and to_dt\n",
    "        Aggregate data by year_week\n",
    "        return pandas dataframe\n",
    "    \"\"\"\n",
    "    query = _create_year_week_sql(from_dt, to_dt, baseline_model_name, evaluation_model_name, data_size)\n",
    "    df = load_data_from_bigquery(query)\n",
    "    df['year_week_dt']=pd.to_datetime(df.year_week + '1', format='%Y%W%w')\n",
    "    return df"
   ]
  },
  {
   "cell_type": "code",
   "execution_count": 15,
   "metadata": {},
   "outputs": [
    {
     "name": "stderr",
     "output_type": "stream",
     "text": [
      "/home/raphi/.local/share/virtualenvs/code_example-tYeYzoY4/lib/python3.9/site-packages/google/auth/_default.py:81: UserWarning: Your application has authenticated using end user credentials from Google Cloud SDK without a quota project. You might receive a \"quota exceeded\" or \"API not enabled\" error. We recommend you rerun `gcloud auth application-default login` and make sure a quota project is added. Or you can use service accounts instead. For more information about service accounts, see https://cloud.google.com/docs/authentication/\n",
      "  warnings.warn(_CLOUD_SDK_CREDENTIALS_WARNING)\n"
     ]
    },
    {
     "name": "stdout",
     "output_type": "stream",
     "text": [
      "Successfully collected data from BigQuery.\n"
     ]
    }
   ],
   "source": [
    "year_week = load_year_week_data(\"2022-01-01\", \"2023-12-31\", baseline_model_name, evaluation_model_name, data_size=0)"
   ]
  },
  {
   "cell_type": "code",
   "execution_count": 40,
   "metadata": {},
   "outputs": [
    {
     "name": "stdout",
     "output_type": "stream",
     "text": [
      "partition start_dt 2022-05-15\n",
      "partition end_dt 2022-05-16\n"
     ]
    },
    {
     "name": "stderr",
     "output_type": "stream",
     "text": [
      "/home/raphi/.local/share/virtualenvs/code_example-tYeYzoY4/lib/python3.9/site-packages/google/auth/_default.py:81: UserWarning: Your application has authenticated using end user credentials from Google Cloud SDK without a quota project. You might receive a \"quota exceeded\" or \"API not enabled\" error. We recommend you rerun `gcloud auth application-default login` and make sure a quota project is added. Or you can use service accounts instead. For more information about service accounts, see https://cloud.google.com/docs/authentication/\n",
      "  warnings.warn(_CLOUD_SDK_CREDENTIALS_WARNING)\n"
     ]
    },
    {
     "name": "stdout",
     "output_type": "stream",
     "text": [
      "Successfully collected data from BigQuery.\n",
      "partition start_dt 2022-05-17\n",
      "partition end_dt 2022-05-18\n"
     ]
    },
    {
     "name": "stderr",
     "output_type": "stream",
     "text": [
      "/home/raphi/.local/share/virtualenvs/code_example-tYeYzoY4/lib/python3.9/site-packages/google/auth/_default.py:81: UserWarning: Your application has authenticated using end user credentials from Google Cloud SDK without a quota project. You might receive a \"quota exceeded\" or \"API not enabled\" error. We recommend you rerun `gcloud auth application-default login` and make sure a quota project is added. Or you can use service accounts instead. For more information about service accounts, see https://cloud.google.com/docs/authentication/\n",
      "  warnings.warn(_CLOUD_SDK_CREDENTIALS_WARNING)\n"
     ]
    },
    {
     "name": "stdout",
     "output_type": "stream",
     "text": [
      "Successfully collected data from BigQuery.\n",
      "partition start_dt 2022-05-19\n",
      "partition end_dt 2022-05-20\n"
     ]
    },
    {
     "name": "stderr",
     "output_type": "stream",
     "text": [
      "/home/raphi/.local/share/virtualenvs/code_example-tYeYzoY4/lib/python3.9/site-packages/google/auth/_default.py:81: UserWarning: Your application has authenticated using end user credentials from Google Cloud SDK without a quota project. You might receive a \"quota exceeded\" or \"API not enabled\" error. We recommend you rerun `gcloud auth application-default login` and make sure a quota project is added. Or you can use service accounts instead. For more information about service accounts, see https://cloud.google.com/docs/authentication/\n",
      "  warnings.warn(_CLOUD_SDK_CREDENTIALS_WARNING)\n"
     ]
    },
    {
     "name": "stdout",
     "output_type": "stream",
     "text": [
      "Successfully collected data from BigQuery.\n",
      "partition start_dt 2022-05-21\n",
      "partition end_dt 2022-05-22\n"
     ]
    },
    {
     "name": "stderr",
     "output_type": "stream",
     "text": [
      "/home/raphi/.local/share/virtualenvs/code_example-tYeYzoY4/lib/python3.9/site-packages/google/auth/_default.py:81: UserWarning: Your application has authenticated using end user credentials from Google Cloud SDK without a quota project. You might receive a \"quota exceeded\" or \"API not enabled\" error. We recommend you rerun `gcloud auth application-default login` and make sure a quota project is added. Or you can use service accounts instead. For more information about service accounts, see https://cloud.google.com/docs/authentication/\n",
      "  warnings.warn(_CLOUD_SDK_CREDENTIALS_WARNING)\n"
     ]
    },
    {
     "name": "stdout",
     "output_type": "stream",
     "text": [
      "Successfully collected data from BigQuery.\n",
      "partition start_dt 2022-05-23\n",
      "partition end_dt 2022-05-24\n"
     ]
    },
    {
     "name": "stderr",
     "output_type": "stream",
     "text": [
      "/home/raphi/.local/share/virtualenvs/code_example-tYeYzoY4/lib/python3.9/site-packages/google/auth/_default.py:81: UserWarning: Your application has authenticated using end user credentials from Google Cloud SDK without a quota project. You might receive a \"quota exceeded\" or \"API not enabled\" error. We recommend you rerun `gcloud auth application-default login` and make sure a quota project is added. Or you can use service accounts instead. For more information about service accounts, see https://cloud.google.com/docs/authentication/\n",
      "  warnings.warn(_CLOUD_SDK_CREDENTIALS_WARNING)\n"
     ]
    },
    {
     "name": "stdout",
     "output_type": "stream",
     "text": [
      "Successfully collected data from BigQuery.\n",
      "partition start_dt 2022-05-25\n",
      "partition end_dt 2022-05-26\n"
     ]
    },
    {
     "name": "stderr",
     "output_type": "stream",
     "text": [
      "/home/raphi/.local/share/virtualenvs/code_example-tYeYzoY4/lib/python3.9/site-packages/google/auth/_default.py:81: UserWarning: Your application has authenticated using end user credentials from Google Cloud SDK without a quota project. You might receive a \"quota exceeded\" or \"API not enabled\" error. We recommend you rerun `gcloud auth application-default login` and make sure a quota project is added. Or you can use service accounts instead. For more information about service accounts, see https://cloud.google.com/docs/authentication/\n",
      "  warnings.warn(_CLOUD_SDK_CREDENTIALS_WARNING)\n"
     ]
    },
    {
     "name": "stdout",
     "output_type": "stream",
     "text": [
      "Successfully collected data from BigQuery.\n",
      "partition start_dt 2022-05-27\n",
      "partition end_dt 2022-05-28\n"
     ]
    },
    {
     "name": "stderr",
     "output_type": "stream",
     "text": [
      "/home/raphi/.local/share/virtualenvs/code_example-tYeYzoY4/lib/python3.9/site-packages/google/auth/_default.py:81: UserWarning: Your application has authenticated using end user credentials from Google Cloud SDK without a quota project. You might receive a \"quota exceeded\" or \"API not enabled\" error. We recommend you rerun `gcloud auth application-default login` and make sure a quota project is added. Or you can use service accounts instead. For more information about service accounts, see https://cloud.google.com/docs/authentication/\n",
      "  warnings.warn(_CLOUD_SDK_CREDENTIALS_WARNING)\n"
     ]
    },
    {
     "name": "stdout",
     "output_type": "stream",
     "text": [
      "Successfully collected data from BigQuery.\n",
      "partition start_dt 2022-05-29\n",
      "partition end_dt 2022-05-30\n"
     ]
    },
    {
     "name": "stderr",
     "output_type": "stream",
     "text": [
      "/home/raphi/.local/share/virtualenvs/code_example-tYeYzoY4/lib/python3.9/site-packages/google/auth/_default.py:81: UserWarning: Your application has authenticated using end user credentials from Google Cloud SDK without a quota project. You might receive a \"quota exceeded\" or \"API not enabled\" error. We recommend you rerun `gcloud auth application-default login` and make sure a quota project is added. Or you can use service accounts instead. For more information about service accounts, see https://cloud.google.com/docs/authentication/\n",
      "  warnings.warn(_CLOUD_SDK_CREDENTIALS_WARNING)\n"
     ]
    },
    {
     "name": "stdout",
     "output_type": "stream",
     "text": [
      "Successfully collected data from BigQuery.\n",
      "partition start_dt 2022-05-31\n",
      "partition end_dt 2022-06-01\n"
     ]
    },
    {
     "name": "stderr",
     "output_type": "stream",
     "text": [
      "/home/raphi/.local/share/virtualenvs/code_example-tYeYzoY4/lib/python3.9/site-packages/google/auth/_default.py:81: UserWarning: Your application has authenticated using end user credentials from Google Cloud SDK without a quota project. You might receive a \"quota exceeded\" or \"API not enabled\" error. We recommend you rerun `gcloud auth application-default login` and make sure a quota project is added. Or you can use service accounts instead. For more information about service accounts, see https://cloud.google.com/docs/authentication/\n",
      "  warnings.warn(_CLOUD_SDK_CREDENTIALS_WARNING)\n"
     ]
    },
    {
     "name": "stdout",
     "output_type": "stream",
     "text": [
      "Successfully collected data from BigQuery.\n",
      "partition start_dt 2022-06-02\n",
      "partition end_dt 2022-06-03\n"
     ]
    },
    {
     "name": "stderr",
     "output_type": "stream",
     "text": [
      "/home/raphi/.local/share/virtualenvs/code_example-tYeYzoY4/lib/python3.9/site-packages/google/auth/_default.py:81: UserWarning: Your application has authenticated using end user credentials from Google Cloud SDK without a quota project. You might receive a \"quota exceeded\" or \"API not enabled\" error. We recommend you rerun `gcloud auth application-default login` and make sure a quota project is added. Or you can use service accounts instead. For more information about service accounts, see https://cloud.google.com/docs/authentication/\n",
      "  warnings.warn(_CLOUD_SDK_CREDENTIALS_WARNING)\n"
     ]
    },
    {
     "name": "stdout",
     "output_type": "stream",
     "text": [
      "Successfully collected data from BigQuery.\n",
      "partition start_dt 2022-06-04\n",
      "partition end_dt 2022-06-05\n"
     ]
    },
    {
     "name": "stderr",
     "output_type": "stream",
     "text": [
      "/home/raphi/.local/share/virtualenvs/code_example-tYeYzoY4/lib/python3.9/site-packages/google/auth/_default.py:81: UserWarning: Your application has authenticated using end user credentials from Google Cloud SDK without a quota project. You might receive a \"quota exceeded\" or \"API not enabled\" error. We recommend you rerun `gcloud auth application-default login` and make sure a quota project is added. Or you can use service accounts instead. For more information about service accounts, see https://cloud.google.com/docs/authentication/\n",
      "  warnings.warn(_CLOUD_SDK_CREDENTIALS_WARNING)\n"
     ]
    },
    {
     "name": "stdout",
     "output_type": "stream",
     "text": [
      "Successfully collected data from BigQuery.\n"
     ]
    }
   ],
   "source": [
    "base_df = load_data(from_dt, to_dt, baseline_model_name, evaluation_model_name, 0)"
   ]
  },
  {
   "cell_type": "code",
   "execution_count": 60,
   "metadata": {},
   "outputs": [
    {
     "name": "stdout",
     "output_type": "stream",
     "text": [
      "partition start_dt 2022-03-15\n",
      "partition end_dt 2022-03-16\n"
     ]
    },
    {
     "name": "stderr",
     "output_type": "stream",
     "text": [
      "/home/raphi/.local/share/virtualenvs/code_example-tYeYzoY4/lib/python3.9/site-packages/google/auth/_default.py:81: UserWarning: Your application has authenticated using end user credentials from Google Cloud SDK without a quota project. You might receive a \"quota exceeded\" or \"API not enabled\" error. We recommend you rerun `gcloud auth application-default login` and make sure a quota project is added. Or you can use service accounts instead. For more information about service accounts, see https://cloud.google.com/docs/authentication/\n",
      "  warnings.warn(_CLOUD_SDK_CREDENTIALS_WARNING)\n"
     ]
    },
    {
     "name": "stdout",
     "output_type": "stream",
     "text": [
      "Successfully collected data from BigQuery.\n",
      "partition start_dt 2022-03-17\n",
      "partition end_dt 2022-03-18\n"
     ]
    },
    {
     "name": "stderr",
     "output_type": "stream",
     "text": [
      "/home/raphi/.local/share/virtualenvs/code_example-tYeYzoY4/lib/python3.9/site-packages/google/auth/_default.py:81: UserWarning: Your application has authenticated using end user credentials from Google Cloud SDK without a quota project. You might receive a \"quota exceeded\" or \"API not enabled\" error. We recommend you rerun `gcloud auth application-default login` and make sure a quota project is added. Or you can use service accounts instead. For more information about service accounts, see https://cloud.google.com/docs/authentication/\n",
      "  warnings.warn(_CLOUD_SDK_CREDENTIALS_WARNING)\n"
     ]
    },
    {
     "name": "stdout",
     "output_type": "stream",
     "text": [
      "Successfully collected data from BigQuery.\n",
      "partition start_dt 2022-03-19\n",
      "partition end_dt 2022-03-20\n"
     ]
    },
    {
     "name": "stderr",
     "output_type": "stream",
     "text": [
      "/home/raphi/.local/share/virtualenvs/code_example-tYeYzoY4/lib/python3.9/site-packages/google/auth/_default.py:81: UserWarning: Your application has authenticated using end user credentials from Google Cloud SDK without a quota project. You might receive a \"quota exceeded\" or \"API not enabled\" error. We recommend you rerun `gcloud auth application-default login` and make sure a quota project is added. Or you can use service accounts instead. For more information about service accounts, see https://cloud.google.com/docs/authentication/\n",
      "  warnings.warn(_CLOUD_SDK_CREDENTIALS_WARNING)\n"
     ]
    },
    {
     "name": "stdout",
     "output_type": "stream",
     "text": [
      "Successfully collected data from BigQuery.\n",
      "partition start_dt 2022-03-21\n",
      "partition end_dt 2022-03-22\n"
     ]
    },
    {
     "name": "stderr",
     "output_type": "stream",
     "text": [
      "/home/raphi/.local/share/virtualenvs/code_example-tYeYzoY4/lib/python3.9/site-packages/google/auth/_default.py:81: UserWarning: Your application has authenticated using end user credentials from Google Cloud SDK without a quota project. You might receive a \"quota exceeded\" or \"API not enabled\" error. We recommend you rerun `gcloud auth application-default login` and make sure a quota project is added. Or you can use service accounts instead. For more information about service accounts, see https://cloud.google.com/docs/authentication/\n",
      "  warnings.warn(_CLOUD_SDK_CREDENTIALS_WARNING)\n"
     ]
    },
    {
     "name": "stdout",
     "output_type": "stream",
     "text": [
      "Successfully collected data from BigQuery.\n",
      "partition start_dt 2022-03-23\n",
      "partition end_dt 2022-03-24\n"
     ]
    },
    {
     "name": "stderr",
     "output_type": "stream",
     "text": [
      "/home/raphi/.local/share/virtualenvs/code_example-tYeYzoY4/lib/python3.9/site-packages/google/auth/_default.py:81: UserWarning: Your application has authenticated using end user credentials from Google Cloud SDK without a quota project. You might receive a \"quota exceeded\" or \"API not enabled\" error. We recommend you rerun `gcloud auth application-default login` and make sure a quota project is added. Or you can use service accounts instead. For more information about service accounts, see https://cloud.google.com/docs/authentication/\n",
      "  warnings.warn(_CLOUD_SDK_CREDENTIALS_WARNING)\n"
     ]
    },
    {
     "name": "stdout",
     "output_type": "stream",
     "text": [
      "Successfully collected data from BigQuery.\n",
      "partition start_dt 2022-03-25\n",
      "partition end_dt 2022-03-26\n"
     ]
    },
    {
     "name": "stderr",
     "output_type": "stream",
     "text": [
      "/home/raphi/.local/share/virtualenvs/code_example-tYeYzoY4/lib/python3.9/site-packages/google/auth/_default.py:81: UserWarning: Your application has authenticated using end user credentials from Google Cloud SDK without a quota project. You might receive a \"quota exceeded\" or \"API not enabled\" error. We recommend you rerun `gcloud auth application-default login` and make sure a quota project is added. Or you can use service accounts instead. For more information about service accounts, see https://cloud.google.com/docs/authentication/\n",
      "  warnings.warn(_CLOUD_SDK_CREDENTIALS_WARNING)\n"
     ]
    },
    {
     "name": "stdout",
     "output_type": "stream",
     "text": [
      "Successfully collected data from BigQuery.\n",
      "partition start_dt 2022-03-27\n",
      "partition end_dt 2022-03-28\n"
     ]
    },
    {
     "name": "stderr",
     "output_type": "stream",
     "text": [
      "/home/raphi/.local/share/virtualenvs/code_example-tYeYzoY4/lib/python3.9/site-packages/google/auth/_default.py:81: UserWarning: Your application has authenticated using end user credentials from Google Cloud SDK without a quota project. You might receive a \"quota exceeded\" or \"API not enabled\" error. We recommend you rerun `gcloud auth application-default login` and make sure a quota project is added. Or you can use service accounts instead. For more information about service accounts, see https://cloud.google.com/docs/authentication/\n",
      "  warnings.warn(_CLOUD_SDK_CREDENTIALS_WARNING)\n"
     ]
    },
    {
     "name": "stdout",
     "output_type": "stream",
     "text": [
      "Successfully collected data from BigQuery.\n",
      "partition start_dt 2022-03-29\n",
      "partition end_dt 2022-03-30\n"
     ]
    },
    {
     "name": "stderr",
     "output_type": "stream",
     "text": [
      "/home/raphi/.local/share/virtualenvs/code_example-tYeYzoY4/lib/python3.9/site-packages/google/auth/_default.py:81: UserWarning: Your application has authenticated using end user credentials from Google Cloud SDK without a quota project. You might receive a \"quota exceeded\" or \"API not enabled\" error. We recommend you rerun `gcloud auth application-default login` and make sure a quota project is added. Or you can use service accounts instead. For more information about service accounts, see https://cloud.google.com/docs/authentication/\n",
      "  warnings.warn(_CLOUD_SDK_CREDENTIALS_WARNING)\n"
     ]
    },
    {
     "name": "stdout",
     "output_type": "stream",
     "text": [
      "Successfully collected data from BigQuery.\n"
     ]
    }
   ],
   "source": [
    "pre_base_df = load_data(from_dt, to_dt, baseline_model_name, evaluation_model_name, 0)"
   ]
  },
  {
   "cell_type": "code",
   "execution_count": 35,
   "metadata": {},
   "outputs": [
    {
     "name": "stderr",
     "output_type": "stream",
     "text": [
      "/home/raphi/.local/share/virtualenvs/code_example-tYeYzoY4/lib/python3.9/site-packages/google/auth/_default.py:81: UserWarning: Your application has authenticated using end user credentials from Google Cloud SDK without a quota project. You might receive a \"quota exceeded\" or \"API not enabled\" error. We recommend you rerun `gcloud auth application-default login` and make sure a quota project is added. Or you can use service accounts instead. For more information about service accounts, see https://cloud.google.com/docs/authentication/\n",
      "  warnings.warn(_CLOUD_SDK_CREDENTIALS_WARNING)\n"
     ]
    },
    {
     "name": "stdout",
     "output_type": "stream",
     "text": [
      "Successfully collected data from BigQuery.\n"
     ]
    }
   ],
   "source": [
    "update_df = load_data_from_bigquery(_create_update_sql)"
   ]
  },
  {
   "cell_type": "code",
   "execution_count": 61,
   "metadata": {},
   "outputs": [],
   "source": [
    "pre_base_df.to_csv('pre_update_data.csv', index=False)"
   ]
  },
  {
   "cell_type": "code",
   "execution_count": 41,
   "metadata": {},
   "outputs": [],
   "source": [
    "base_df.to_csv('post_update_data.csv', index=False)"
   ]
  },
  {
   "cell_type": "code",
   "execution_count": 36,
   "metadata": {},
   "outputs": [],
   "source": [
    "update_df.to_csv('update_data.csv',index=False)"
   ]
  },
  {
   "cell_type": "markdown",
   "metadata": {},
   "source": [
    "# Load Data from csv"
   ]
  },
  {
   "cell_type": "code",
   "execution_count": 5,
   "metadata": {},
   "outputs": [],
   "source": [
    "pre_base_df = pd.read_csv('pre_update_data.csv')\n",
    "post_base_df = pd.read_csv('post_update_data.csv')"
   ]
  },
  {
   "cell_type": "code",
   "execution_count": 7,
   "metadata": {},
   "outputs": [
    {
     "data": {
      "image/png": "[encoded data removed]",
      "text/plain": [
       "<Figure size 1080x720 with 1 Axes>"
      ]
     },
     "metadata": {
      "needs_background": "light"
     },
     "output_type": "display_data"
    }
   ],
   "source": [
    "post_gender_age = post_base_df.loc[(post_base_df.gender_age !='unknown_00')].groupby(['gender_age'])[['num_tracking']].agg({'sum'})\n",
    "post_gender_age_pcts = post_gender_age.apply(lambda x:100 *x / float(x.sum()))\n",
    "ax=post_gender_age_pcts.plot(kind='bar', figsize=(15,10))"
   ]
  },
  {
   "cell_type": "code",
   "execution_count": 8,
   "metadata": {},
   "outputs": [
    {
     "data": {
      "image/png": "[encoded data removed]",
      "text/plain": [
       "<Figure size 1080x720 with 1 Axes>"
      ]
     },
     "metadata": {
      "needs_background": "light"
     },
     "output_type": "display_data"
    }
   ],
   "source": [
    "post_gender = post_base_df.groupby(['desc_gender'])[['num_tracking']].agg({'sum'})\n",
    "post_gender_pcts = post_gender.apply(lambda x: 100*x / float(x.sum()))\n",
    "ax=post_gender_pcts.plot(kind='bar', figsize=(15,10))"
   ]
  },
  {
   "cell_type": "code",
   "execution_count": 9,
   "metadata": {},
   "outputs": [
    {
     "data": {
      "text/html": [
       "<div>\n",
       "<style scoped>\n",
       "    .dataframe tbody tr th:only-of-type {\n",
       "        vertical-align: middle;\n",
       "    }\n",
       "\n",
       "    .dataframe tbody tr th {\n",
       "        vertical-align: top;\n",
       "    }\n",
       "\n",
       "    .dataframe thead th {\n",
       "        text-align: right;\n",
       "    }\n",
       "</style>\n",
       "<table border=\"1\" class=\"dataframe\">\n",
       "  <thead>\n",
       "    <tr style=\"text-align: right;\">\n",
       "      <th></th>\n",
       "      <th>calendar_dt</th>\n",
       "      <th>hour_local</th>\n",
       "      <th>calendar_dt_hour</th>\n",
       "      <th>poi_id</th>\n",
       "      <th>provider_id</th>\n",
       "      <th>target_group_id</th>\n",
       "      <th>desc_gender</th>\n",
       "      <th>desc_age</th>\n",
       "      <th>min_age</th>\n",
       "      <th>age_bucketized</th>\n",
       "      <th>is_special_dt</th>\n",
       "      <th>is_open</th>\n",
       "      <th>is_in_validation</th>\n",
       "      <th>num_tracking</th>\n",
       "      <th>prediction_type_baseline</th>\n",
       "      <th>prediction_type_evaluation</th>\n",
       "      <th>prediction_baseline</th>\n",
       "      <th>prediction_evaluation</th>\n",
       "      <th>gender_age</th>\n",
       "    </tr>\n",
       "  </thead>\n",
       "  <tbody>\n",
       "    <tr>\n",
       "      <th>0</th>\n",
       "      <td>2022-03-16</td>\n",
       "      <td>0</td>\n",
       "      <td>2022-03-16 00:00</td>\n",
       "      <td>436</td>\n",
       "      <td>6</td>\n",
       "      <td>4</td>\n",
       "      <td>female</td>\n",
       "      <td>NaN</td>\n",
       "      <td>15.0</td>\n",
       "      <td>young_adults</td>\n",
       "      <td>0</td>\n",
       "      <td>1</td>\n",
       "      <td>NaN</td>\n",
       "      <td>0.0</td>\n",
       "      <td>NaN</td>\n",
       "      <td>NaN</td>\n",
       "      <td>NaN</td>\n",
       "      <td>NaN</td>\n",
       "      <td>female_15</td>\n",
       "    </tr>\n",
       "    <tr>\n",
       "      <th>1</th>\n",
       "      <td>2022-03-16</td>\n",
       "      <td>0</td>\n",
       "      <td>2022-03-16 00:00</td>\n",
       "      <td>514</td>\n",
       "      <td>6</td>\n",
       "      <td>4</td>\n",
       "      <td>female</td>\n",
       "      <td>NaN</td>\n",
       "      <td>15.0</td>\n",
       "      <td>young_adults</td>\n",
       "      <td>0</td>\n",
       "      <td>1</td>\n",
       "      <td>NaN</td>\n",
       "      <td>0.0</td>\n",
       "      <td>NaN</td>\n",
       "      <td>NaN</td>\n",
       "      <td>NaN</td>\n",
       "      <td>NaN</td>\n",
       "      <td>female_15</td>\n",
       "    </tr>\n",
       "    <tr>\n",
       "      <th>2</th>\n",
       "      <td>2022-03-16</td>\n",
       "      <td>0</td>\n",
       "      <td>2022-03-16 00:00</td>\n",
       "      <td>553</td>\n",
       "      <td>6</td>\n",
       "      <td>4</td>\n",
       "      <td>female</td>\n",
       "      <td>NaN</td>\n",
       "      <td>15.0</td>\n",
       "      <td>young_adults</td>\n",
       "      <td>0</td>\n",
       "      <td>1</td>\n",
       "      <td>NaN</td>\n",
       "      <td>0.0</td>\n",
       "      <td>NaN</td>\n",
       "      <td>NaN</td>\n",
       "      <td>NaN</td>\n",
       "      <td>NaN</td>\n",
       "      <td>female_15</td>\n",
       "    </tr>\n",
       "    <tr>\n",
       "      <th>3</th>\n",
       "      <td>2022-03-16</td>\n",
       "      <td>0</td>\n",
       "      <td>2022-03-16 00:00</td>\n",
       "      <td>443</td>\n",
       "      <td>6</td>\n",
       "      <td>4</td>\n",
       "      <td>female</td>\n",
       "      <td>NaN</td>\n",
       "      <td>15.0</td>\n",
       "      <td>young_adults</td>\n",
       "      <td>0</td>\n",
       "      <td>1</td>\n",
       "      <td>NaN</td>\n",
       "      <td>0.0</td>\n",
       "      <td>NaN</td>\n",
       "      <td>NaN</td>\n",
       "      <td>NaN</td>\n",
       "      <td>NaN</td>\n",
       "      <td>female_15</td>\n",
       "    </tr>\n",
       "    <tr>\n",
       "      <th>4</th>\n",
       "      <td>2022-03-16</td>\n",
       "      <td>0</td>\n",
       "      <td>2022-03-16 00:00</td>\n",
       "      <td>509</td>\n",
       "      <td>6</td>\n",
       "      <td>4</td>\n",
       "      <td>female</td>\n",
       "      <td>NaN</td>\n",
       "      <td>15.0</td>\n",
       "      <td>young_adults</td>\n",
       "      <td>0</td>\n",
       "      <td>1</td>\n",
       "      <td>NaN</td>\n",
       "      <td>0.0</td>\n",
       "      <td>NaN</td>\n",
       "      <td>NaN</td>\n",
       "      <td>NaN</td>\n",
       "      <td>NaN</td>\n",
       "      <td>female_15</td>\n",
       "    </tr>\n",
       "  </tbody>\n",
       "</table>\n",
       "</div>"
      ],
      "text/plain": [
       "  calendar_dt  hour_local  calendar_dt_hour  poi_id  provider_id  \\\n",
       "0  2022-03-16           0  2022-03-16 00:00     436            6   \n",
       "1  2022-03-16           0  2022-03-16 00:00     514            6   \n",
       "2  2022-03-16           0  2022-03-16 00:00     553            6   \n",
       "3  2022-03-16           0  2022-03-16 00:00     443            6   \n",
       "4  2022-03-16           0  2022-03-16 00:00     509            6   \n",
       "\n",
       "   target_group_id desc_gender  desc_age  min_age age_bucketized  \\\n",
       "0                4      female       NaN     15.0   young_adults   \n",
       "1                4      female       NaN     15.0   young_adults   \n",
       "2                4      female       NaN     15.0   young_adults   \n",
       "3                4      female       NaN     15.0   young_adults   \n",
       "4                4      female       NaN     15.0   young_adults   \n",
       "\n",
       "   is_special_dt  is_open  is_in_validation  num_tracking  \\\n",
       "0              0        1               NaN           0.0   \n",
       "1              0        1               NaN           0.0   \n",
       "2              0        1               NaN           0.0   \n",
       "3              0        1               NaN           0.0   \n",
       "4              0        1               NaN           0.0   \n",
       "\n",
       "   prediction_type_baseline  prediction_type_evaluation  prediction_baseline  \\\n",
       "0                       NaN                         NaN                  NaN   \n",
       "1                       NaN                         NaN                  NaN   \n",
       "2                       NaN                         NaN                  NaN   \n",
       "3                       NaN                         NaN                  NaN   \n",
       "4                       NaN                         NaN                  NaN   \n",
       "\n",
       "   prediction_evaluation gender_age  \n",
       "0                    NaN  female_15  \n",
       "1                    NaN  female_15  \n",
       "2                    NaN  female_15  \n",
       "3                    NaN  female_15  \n",
       "4                    NaN  female_15  "
      ]
     },
     "execution_count": 9,
     "metadata": {},
     "output_type": "execute_result"
    }
   ],
   "source": [
    "pre_base_df.head()"
   ]
  },
  {
   "cell_type": "code",
   "execution_count": 25,
   "metadata": {},
   "outputs": [
    {
     "data": {
      "image/png": "[encoded data removed]",
      "text/plain": [
       "<Figure size 1080x720 with 1 Axes>"
      ]
     },
     "metadata": {
      "needs_background": "light"
     },
     "output_type": "display_data"
    }
   ],
   "source": [
    "pre_gender_age = pre_base_df.loc[(pre_base_df.gender_age !='unknown_00') ].groupby(['gender_age'])[['num_tracking']].agg({'sum'})\n",
    "pre_gender_age_pcts = pre_gender_age.apply(lambda x:  100* x / float(x.sum()))\n",
    "ax=pre_gender_age_pcts.plot(kind='bar', figsize=(15,10))"
   ]
  },
  {
   "cell_type": "code",
   "execution_count": 12,
   "metadata": {},
   "outputs": [
    {
     "data": {
      "text/html": [
       "<div>\n",
       "<style scoped>\n",
       "    .dataframe tbody tr th:only-of-type {\n",
       "        vertical-align: middle;\n",
       "    }\n",
       "\n",
       "    .dataframe tbody tr th {\n",
       "        vertical-align: top;\n",
       "    }\n",
       "\n",
       "    .dataframe thead tr th {\n",
       "        text-align: left;\n",
       "    }\n",
       "\n",
       "    .dataframe thead tr:last-of-type th {\n",
       "        text-align: right;\n",
       "    }\n",
       "</style>\n",
       "<table border=\"1\" class=\"dataframe\">\n",
       "  <thead>\n",
       "    <tr>\n",
       "      <th></th>\n",
       "      <th>num_tracking</th>\n",
       "    </tr>\n",
       "    <tr>\n",
       "      <th></th>\n",
       "      <th>sum</th>\n",
       "    </tr>\n",
       "    <tr>\n",
       "      <th>gender_age</th>\n",
       "      <th></th>\n",
       "    </tr>\n",
       "  </thead>\n",
       "  <tbody>\n",
       "    <tr>\n",
       "      <th>female_00</th>\n",
       "      <td>0.021708</td>\n",
       "    </tr>\n",
       "    <tr>\n",
       "      <th>female_05</th>\n",
       "      <td>0.132597</td>\n",
       "    </tr>\n",
       "    <tr>\n",
       "      <th>female_10</th>\n",
       "      <td>0.254120</td>\n",
       "    </tr>\n",
       "    <tr>\n",
       "      <th>female_15</th>\n",
       "      <td>0.549723</td>\n",
       "    </tr>\n",
       "    <tr>\n",
       "      <th>female_20</th>\n",
       "      <td>1.674261</td>\n",
       "    </tr>\n",
       "    <tr>\n",
       "      <th>female_25</th>\n",
       "      <td>5.587216</td>\n",
       "    </tr>\n",
       "    <tr>\n",
       "      <th>female_30</th>\n",
       "      <td>14.346297</td>\n",
       "    </tr>\n",
       "    <tr>\n",
       "      <th>female_35</th>\n",
       "      <td>13.999106</td>\n",
       "    </tr>\n",
       "    <tr>\n",
       "      <th>female_40</th>\n",
       "      <td>6.607380</td>\n",
       "    </tr>\n",
       "    <tr>\n",
       "      <th>female_45</th>\n",
       "      <td>3.452412</td>\n",
       "    </tr>\n",
       "    <tr>\n",
       "      <th>female_50</th>\n",
       "      <td>2.028888</td>\n",
       "    </tr>\n",
       "    <tr>\n",
       "      <th>female_55</th>\n",
       "      <td>1.151011</td>\n",
       "    </tr>\n",
       "    <tr>\n",
       "      <th>female_60</th>\n",
       "      <td>0.543738</td>\n",
       "    </tr>\n",
       "    <tr>\n",
       "      <th>female_65</th>\n",
       "      <td>0.079028</td>\n",
       "    </tr>\n",
       "    <tr>\n",
       "      <th>female_70</th>\n",
       "      <td>0.000967</td>\n",
       "    </tr>\n",
       "    <tr>\n",
       "      <th>female_75</th>\n",
       "      <td>0.000000</td>\n",
       "    </tr>\n",
       "    <tr>\n",
       "      <th>female_80</th>\n",
       "      <td>0.000000</td>\n",
       "    </tr>\n",
       "    <tr>\n",
       "      <th>female_85</th>\n",
       "      <td>0.000000</td>\n",
       "    </tr>\n",
       "    <tr>\n",
       "      <th>female_90</th>\n",
       "      <td>0.000000</td>\n",
       "    </tr>\n",
       "    <tr>\n",
       "      <th>female_95</th>\n",
       "      <td>0.000000</td>\n",
       "    </tr>\n",
       "    <tr>\n",
       "      <th>male_00</th>\n",
       "      <td>0.046432</td>\n",
       "    </tr>\n",
       "    <tr>\n",
       "      <th>male_05</th>\n",
       "      <td>0.097721</td>\n",
       "    </tr>\n",
       "    <tr>\n",
       "      <th>male_10</th>\n",
       "      <td>0.172076</td>\n",
       "    </tr>\n",
       "    <tr>\n",
       "      <th>male_15</th>\n",
       "      <td>0.336763</td>\n",
       "    </tr>\n",
       "    <tr>\n",
       "      <th>male_20</th>\n",
       "      <td>0.790215</td>\n",
       "    </tr>\n",
       "    <tr>\n",
       "      <th>male_25</th>\n",
       "      <td>2.428634</td>\n",
       "    </tr>\n",
       "    <tr>\n",
       "      <th>male_30</th>\n",
       "      <td>8.747732</td>\n",
       "    </tr>\n",
       "    <tr>\n",
       "      <th>male_35</th>\n",
       "      <td>13.381128</td>\n",
       "    </tr>\n",
       "    <tr>\n",
       "      <th>male_40</th>\n",
       "      <td>8.667529</td>\n",
       "    </tr>\n",
       "    <tr>\n",
       "      <th>male_45</th>\n",
       "      <td>5.609223</td>\n",
       "    </tr>\n",
       "    <tr>\n",
       "      <th>male_50</th>\n",
       "      <td>4.232890</td>\n",
       "    </tr>\n",
       "    <tr>\n",
       "      <th>male_55</th>\n",
       "      <td>3.281925</td>\n",
       "    </tr>\n",
       "    <tr>\n",
       "      <th>male_60</th>\n",
       "      <td>1.617240</td>\n",
       "    </tr>\n",
       "    <tr>\n",
       "      <th>male_65</th>\n",
       "      <td>0.161441</td>\n",
       "    </tr>\n",
       "    <tr>\n",
       "      <th>male_70</th>\n",
       "      <td>0.000599</td>\n",
       "    </tr>\n",
       "    <tr>\n",
       "      <th>male_75</th>\n",
       "      <td>0.000000</td>\n",
       "    </tr>\n",
       "    <tr>\n",
       "      <th>male_80</th>\n",
       "      <td>0.000000</td>\n",
       "    </tr>\n",
       "    <tr>\n",
       "      <th>male_85</th>\n",
       "      <td>0.000000</td>\n",
       "    </tr>\n",
       "    <tr>\n",
       "      <th>male_90</th>\n",
       "      <td>0.000000</td>\n",
       "    </tr>\n",
       "    <tr>\n",
       "      <th>male_95</th>\n",
       "      <td>0.000000</td>\n",
       "    </tr>\n",
       "  </tbody>\n",
       "</table>\n",
       "</div>"
      ],
      "text/plain": [
       "           num_tracking\n",
       "                    sum\n",
       "gender_age             \n",
       "female_00      0.021708\n",
       "female_05      0.132597\n",
       "female_10      0.254120\n",
       "female_15      0.549723\n",
       "female_20      1.674261\n",
       "female_25      5.587216\n",
       "female_30     14.346297\n",
       "female_35     13.999106\n",
       "female_40      6.607380\n",
       "female_45      3.452412\n",
       "female_50      2.028888\n",
       "female_55      1.151011\n",
       "female_60      0.543738\n",
       "female_65      0.079028\n",
       "female_70      0.000967\n",
       "female_75      0.000000\n",
       "female_80      0.000000\n",
       "female_85      0.000000\n",
       "female_90      0.000000\n",
       "female_95      0.000000\n",
       "male_00        0.046432\n",
       "male_05        0.097721\n",
       "male_10        0.172076\n",
       "male_15        0.336763\n",
       "male_20        0.790215\n",
       "male_25        2.428634\n",
       "male_30        8.747732\n",
       "male_35       13.381128\n",
       "male_40        8.667529\n",
       "male_45        5.609223\n",
       "male_50        4.232890\n",
       "male_55        3.281925\n",
       "male_60        1.617240\n",
       "male_65        0.161441\n",
       "male_70        0.000599\n",
       "male_75        0.000000\n",
       "male_80        0.000000\n",
       "male_85        0.000000\n",
       "male_90        0.000000\n",
       "male_95        0.000000"
      ]
     },
     "execution_count": 12,
     "metadata": {},
     "output_type": "execute_result"
    }
   ],
   "source": [
    "pre_gender_age_pcts"
   ]
  },
  {
   "cell_type": "code",
   "execution_count": 121,
   "metadata": {},
   "outputs": [
    {
     "data": {
      "text/plain": [
       "Text(0.5, 1.0, 'Change in Age-Gender-Distribution')"
      ]
     },
     "execution_count": 121,
     "metadata": {},
     "output_type": "execute_result"
    },
    {
     "data": {
      "image/png": "[encoded data removed]",
      "text/plain": [
       "<Figure size 1080x720 with 1 Axes>"
      ]
     },
     "metadata": {
      "needs_background": "light"
     },
     "output_type": "display_data"
    }
   ],
   "source": [
    "ax=merge_gender_age =  pre_gender_age_pcts.join(post_gender_age_pcts, how='inner', on='gender_age', lsuffix='_pre', rsuffix='_post').plot(figsize=(15,10), kind='bar')\n",
    "ax.legend(labels=['pre-shift','post-shift'])\n",
    "ax.set_ylabel('No. of Tracking per Age-Gender-Group [%]')\n",
    "ax.set_xlabel('Gender-Age')\n",
    "ax.set_title('Change in Age-Gender-Distribution')\n",
    "# ax=merge_gender_age.plot(x='gender_age', y=['pre-update','post-update'],kind='bar',figsize=(15,10))\n"
   ]
  },
  {
   "cell_type": "code",
   "execution_count": 70,
   "metadata": {},
   "outputs": [
    {
     "ename": "AttributeError",
     "evalue": "'DataFrame' object has no attribute 'bar'",
     "output_type": "error",
     "traceback": [
      "\u001b[0;31m---------------------------------------------------------------------------\u001b[0m",
      "\u001b[0;31mAttributeError\u001b[0m                            Traceback (most recent call last)",
      "\u001b[1;32m/home/raphi/projects/data-science-blog/transfer_learning/code_example/generate_plots.ipynb Cell 28'\u001b[0m in \u001b[0;36m<cell line: 1>\u001b[0;34m()\u001b[0m\n\u001b[0;32m----> <a href='vscode-notebook-cell://wsl%2Bubuntu-18.04/home/raphi/projects/data-science-blog/transfer_learning/code_example/generate_plots.ipynb#ch0000029vscode-remote?line=0'>1</a>\u001b[0m merge_gender_age\u001b[39m.\u001b[39;49mbar(kind\u001b[39m=\u001b[39m\u001b[39m'\u001b[39m\u001b[39mbar\u001b[39m\u001b[39m'\u001b[39m, figsize\u001b[39m=\u001b[39m(\u001b[39m15\u001b[39m,\u001b[39m10\u001b[39m))\n",
      "File \u001b[0;32m~/.local/share/virtualenvs/code_example-tYeYzoY4/lib/python3.9/site-packages/pandas/core/generic.py:5583\u001b[0m, in \u001b[0;36mNDFrame.__getattr__\u001b[0;34m(self, name)\u001b[0m\n\u001b[1;32m   5576\u001b[0m \u001b[39mif\u001b[39;00m (\n\u001b[1;32m   5577\u001b[0m     name \u001b[39mnot\u001b[39;00m \u001b[39min\u001b[39;00m \u001b[39mself\u001b[39m\u001b[39m.\u001b[39m_internal_names_set\n\u001b[1;32m   5578\u001b[0m     \u001b[39mand\u001b[39;00m name \u001b[39mnot\u001b[39;00m \u001b[39min\u001b[39;00m \u001b[39mself\u001b[39m\u001b[39m.\u001b[39m_metadata\n\u001b[1;32m   5579\u001b[0m     \u001b[39mand\u001b[39;00m name \u001b[39mnot\u001b[39;00m \u001b[39min\u001b[39;00m \u001b[39mself\u001b[39m\u001b[39m.\u001b[39m_accessors\n\u001b[1;32m   5580\u001b[0m     \u001b[39mand\u001b[39;00m \u001b[39mself\u001b[39m\u001b[39m.\u001b[39m_info_axis\u001b[39m.\u001b[39m_can_hold_identifiers_and_holds_name(name)\n\u001b[1;32m   5581\u001b[0m ):\n\u001b[1;32m   5582\u001b[0m     \u001b[39mreturn\u001b[39;00m \u001b[39mself\u001b[39m[name]\n\u001b[0;32m-> 5583\u001b[0m \u001b[39mreturn\u001b[39;00m \u001b[39mobject\u001b[39;49m\u001b[39m.\u001b[39;49m\u001b[39m__getattribute__\u001b[39;49m(\u001b[39mself\u001b[39;49m, name)\n",
      "\u001b[0;31mAttributeError\u001b[0m: 'DataFrame' object has no attribute 'bar'"
     ]
    }
   ],
   "source": [
    "merge_gender_age.bar(kind='bar', figsize=(15,10))"
   ]
  },
  {
   "cell_type": "code",
   "execution_count": 21,
   "metadata": {},
   "outputs": [
    {
     "data": {
      "image/png": "[encoded data removed]",
      "text/plain": [
       "<Figure size 1080x720 with 1 Axes>"
      ]
     },
     "metadata": {
      "needs_background": "light"
     },
     "output_type": "display_data"
    }
   ],
   "source": [
    "pre_gender = pre_base_df.groupby(['desc_gender'])[['num_tracking']].agg({'sum'})\n",
    "pre_gender_pcts = pre_gender.apply(lambda x: 100*x / float(x.sum()))\n",
    "ax=pre_gender_pcts.plot(kind='bar', figsize=(15,10))"
   ]
  },
  {
   "cell_type": "code",
   "execution_count": 23,
   "metadata": {},
   "outputs": [
    {
     "data": {
      "text/plain": [
       "<AxesSubplot:xlabel='desc_gender'>"
      ]
     },
     "execution_count": 23,
     "metadata": {},
     "output_type": "execute_result"
    },
    {
     "data": {
      "image/png": "[encoded data removed]",
      "text/plain": [
       "<Figure size 432x288 with 1 Axes>"
      ]
     },
     "metadata": {
      "needs_background": "light"
     },
     "output_type": "display_data"
    }
   ],
   "source": [
    "merge_gender = pre_gender_pcts.join(post_gender_pcts, how='inner', lsuffix='_pre', rsuffix='_post')\n",
    "merge_gender.plot(kind='bar')"
   ]
  },
  {
   "cell_type": "code",
   "execution_count": 48,
   "metadata": {},
   "outputs": [
    {
     "data": {
      "text/plain": [
       "array(['202210', '202211', '202212', '202213', '202214', '202215',\n",
       "       '202216', '202217', '202218', '202219', '202220', '202221'],\n",
       "      dtype=object)"
      ]
     },
     "execution_count": 48,
     "metadata": {},
     "output_type": "execute_result"
    }
   ],
   "source": [
    "update_df.year_week.unique()"
   ]
  },
  {
   "cell_type": "code",
   "execution_count": 149,
   "metadata": {},
   "outputs": [],
   "source": [
    "import matplotlib.patches as patches"
   ]
  },
  {
   "cell_type": "code",
   "execution_count": 171,
   "metadata": {},
   "outputs": [
    {
     "name": "stderr",
     "output_type": "stream",
     "text": [
      "/tmp/ipykernel_1019/2978662428.py:1: FutureWarning: Indexing with multiple keys (implicitly converted to a tuple of keys) will be deprecated, use a list instead.\n",
      "  update_timeline = update_df.groupby('calendar_dt')['num_tracking', 'num_above_50'].agg({'sum'}).reset_index()\n"
     ]
    },
    {
     "data": {
      "image/png": "[encoded data removed]",
      "text/plain": [
       "<Figure size 1080x720 with 1 Axes>"
      ]
     },
     "metadata": {
      "needs_background": "light"
     },
     "output_type": "display_data"
    }
   ],
   "source": [
    "update_timeline = update_df.groupby('calendar_dt')['num_tracking', 'num_above_50'].agg({'sum'}).reset_index()\n",
    "update_timeline.columns=['calendar_dt','num_tracking', 'num_above_50']\n",
    "plt.figure(figsize=(15,10))\n",
    "ax=plt.plot(update_timeline.calendar_dt, update_timeline.num_tracking, label='No. of all Tracking')\n",
    "ax = plt.plot(update_timeline.calendar_dt, update_timeline.num_above_50, label='No. of Tracking above 50')\n",
    "plt.ylabel('No. of Tracking')\n",
    "plt.xlabel('Date')\n",
    "plt.title(\"Tracking over Time\")\n",
    "plt.axvline( x=datetime.datetime(2022,4,21), color='red')\n",
    "plt.text(datetime.datetime(2022,4,21,12), 400000, 'data shift', color='red', rotation=90)\n",
    "plt.legend()\n",
    "# patches.FancyArrowPatch((datetime.datetime(2022,4,21), 550000), (datetime.datetime(2022,5,30), 550000), arrowstyle='<->', mutation_scale=20)\n",
    "plt.arrow(datetime.datetime(2022,4,21),550000,40,0, head_width=10000, head_length=1, linewidth=2, color='g',length_includes_head=True)\n",
    "plt.text(datetime.datetime(2022,5,10), 560900, 'new training data', color='g')\n",
    "plt.arrow(datetime.datetime(2022,4,21),550000,-40,0, head_width=10000, head_length=1, linewidth=2, color='black',length_includes_head=True)\n",
    "plt.text(datetime.datetime(2022,4,1), 560900, 'old training data', color='black')\n",
    "\n",
    "\n",
    "plt.show()"
   ]
  },
  {
   "cell_type": "code",
   "execution_count": null,
   "metadata": {},
   "outputs": [],
   "source": []
  },
  {
   "cell_type": "code",
   "execution_count": 56,
   "metadata": {},
   "outputs": [
    {
     "data": {
      "text/html": [
       "<div>\n",
       "<style scoped>\n",
       "    .dataframe tbody tr th:only-of-type {\n",
       "        vertical-align: middle;\n",
       "    }\n",
       "\n",
       "    .dataframe tbody tr th {\n",
       "        vertical-align: top;\n",
       "    }\n",
       "\n",
       "    .dataframe thead th {\n",
       "        text-align: right;\n",
       "    }\n",
       "</style>\n",
       "<table border=\"1\" class=\"dataframe\">\n",
       "  <thead>\n",
       "    <tr style=\"text-align: right;\">\n",
       "      <th></th>\n",
       "      <th>year_week</th>\n",
       "      <th>num_tracking</th>\n",
       "      <th>num_above_50</th>\n",
       "    </tr>\n",
       "  </thead>\n",
       "  <tbody>\n",
       "    <tr>\n",
       "      <th>0</th>\n",
       "      <td>202210</td>\n",
       "      <td>2954103</td>\n",
       "      <td>228723</td>\n",
       "    </tr>\n",
       "    <tr>\n",
       "      <th>1</th>\n",
       "      <td>202211</td>\n",
       "      <td>2865135</td>\n",
       "      <td>234360</td>\n",
       "    </tr>\n",
       "    <tr>\n",
       "      <th>2</th>\n",
       "      <td>202212</td>\n",
       "      <td>3078895</td>\n",
       "      <td>242648</td>\n",
       "    </tr>\n",
       "    <tr>\n",
       "      <th>3</th>\n",
       "      <td>202213</td>\n",
       "      <td>2824662</td>\n",
       "      <td>229989</td>\n",
       "    </tr>\n",
       "    <tr>\n",
       "      <th>4</th>\n",
       "      <td>202214</td>\n",
       "      <td>3061743</td>\n",
       "      <td>257571</td>\n",
       "    </tr>\n",
       "    <tr>\n",
       "      <th>5</th>\n",
       "      <td>202215</td>\n",
       "      <td>3001841</td>\n",
       "      <td>247231</td>\n",
       "    </tr>\n",
       "    <tr>\n",
       "      <th>6</th>\n",
       "      <td>202216</td>\n",
       "      <td>2848081</td>\n",
       "      <td>332143</td>\n",
       "    </tr>\n",
       "    <tr>\n",
       "      <th>7</th>\n",
       "      <td>202217</td>\n",
       "      <td>2963410</td>\n",
       "      <td>447284</td>\n",
       "    </tr>\n",
       "    <tr>\n",
       "      <th>8</th>\n",
       "      <td>202218</td>\n",
       "      <td>2939822</td>\n",
       "      <td>455143</td>\n",
       "    </tr>\n",
       "    <tr>\n",
       "      <th>9</th>\n",
       "      <td>202219</td>\n",
       "      <td>3115599</td>\n",
       "      <td>431515</td>\n",
       "    </tr>\n",
       "    <tr>\n",
       "      <th>10</th>\n",
       "      <td>202220</td>\n",
       "      <td>3140997</td>\n",
       "      <td>425604</td>\n",
       "    </tr>\n",
       "    <tr>\n",
       "      <th>11</th>\n",
       "      <td>202221</td>\n",
       "      <td>2888100</td>\n",
       "      <td>416721</td>\n",
       "    </tr>\n",
       "  </tbody>\n",
       "</table>\n",
       "</div>"
      ],
      "text/plain": [
       "   year_week  num_tracking  num_above_50\n",
       "0     202210       2954103        228723\n",
       "1     202211       2865135        234360\n",
       "2     202212       3078895        242648\n",
       "3     202213       2824662        229989\n",
       "4     202214       3061743        257571\n",
       "5     202215       3001841        247231\n",
       "6     202216       2848081        332143\n",
       "7     202217       2963410        447284\n",
       "8     202218       2939822        455143\n",
       "9     202219       3115599        431515\n",
       "10    202220       3140997        425604\n",
       "11    202221       2888100        416721"
      ]
     },
     "execution_count": 56,
     "metadata": {},
     "output_type": "execute_result"
    }
   ],
   "source": [
    "update_timeline"
   ]
  },
  {
   "cell_type": "code",
   "execution_count": 129,
   "metadata": {},
   "outputs": [
    {
     "ename": "NameError",
     "evalue": "name 'year_week' is not defined",
     "output_type": "error",
     "traceback": [
      "\u001b[0;31m---------------------------------------------------------------------------\u001b[0m",
      "\u001b[0;31mNameError\u001b[0m                                 Traceback (most recent call last)",
      "\u001b[1;32m/home/raphi/projects/data-science-blog/transfer_learning/code_example/generate_plots.ipynb Cell 34'\u001b[0m in \u001b[0;36m<cell line: 1>\u001b[0;34m()\u001b[0m\n\u001b[0;32m----> <a href='vscode-notebook-cell://wsl%2Bubuntu-18.04/home/raphi/projects/data-science-blog/transfer_learning/code_example/generate_plots.ipynb#ch0000021vscode-remote?line=0'>1</a>\u001b[0m ax\u001b[39m=\u001b[39myear_week\u001b[39m.\u001b[39mgroupby(\u001b[39m'\u001b[39m\u001b[39myear_week_dt\u001b[39m\u001b[39m'\u001b[39m)[\u001b[39m'\u001b[39m\u001b[39mprediction_baseline\u001b[39m\u001b[39m'\u001b[39m,\u001b[39m'\u001b[39m\u001b[39mprediction_evaluation\u001b[39m\u001b[39m'\u001b[39m]\u001b[39m.\u001b[39magg({\u001b[39m'\u001b[39m\u001b[39msum\u001b[39m\u001b[39m'\u001b[39m})\u001b[39m.\u001b[39mplot(figsize\u001b[39m=\u001b[39m(\u001b[39m15\u001b[39m,\u001b[39m10\u001b[39m))\n\u001b[1;32m      <a href='vscode-notebook-cell://wsl%2Bubuntu-18.04/home/raphi/projects/data-science-blog/transfer_learning/code_example/generate_plots.ipynb#ch0000021vscode-remote?line=1'>2</a>\u001b[0m ax\u001b[39m.\u001b[39mlegend(labels\u001b[39m=\u001b[39m[\u001b[39m'\u001b[39m\u001b[39mbase-model\u001b[39m\u001b[39m'\u001b[39m,\u001b[39m'\u001b[39m\u001b[39mtransfer-model\u001b[39m\u001b[39m'\u001b[39m])\n\u001b[1;32m      <a href='vscode-notebook-cell://wsl%2Bubuntu-18.04/home/raphi/projects/data-science-blog/transfer_learning/code_example/generate_plots.ipynb#ch0000021vscode-remote?line=2'>3</a>\u001b[0m ax\u001b[39m.\u001b[39mset_ylabel(\u001b[39m'\u001b[39m\u001b[39mNo. of Tracking\u001b[39m\u001b[39m'\u001b[39m)\n",
      "\u001b[0;31mNameError\u001b[0m: name 'year_week' is not defined"
     ]
    }
   ],
   "source": [
    "ax=year_week.groupby('year_week_dt')['prediction_baseline','prediction_evaluation'].agg({'sum'}).plot(figsize=(15,10))\n",
    "ax.legend(labels=['base-model','transfer-model'])\n",
    "ax.set_ylabel('No. of Tracking')\n",
    "ax.set_xlabel('Year-Week')\n",
    "ax.set_title('Seasonality of Transfer-Model compared to Base-Model')\n"
   ]
  },
  {
   "cell_type": "code",
   "execution_count": 124,
   "metadata": {},
   "outputs": [
    {
     "data": {
      "text/html": [
       "<div>\n",
       "<style scoped>\n",
       "    .dataframe tbody tr th:only-of-type {\n",
       "        vertical-align: middle;\n",
       "    }\n",
       "\n",
       "    .dataframe tbody tr th {\n",
       "        vertical-align: top;\n",
       "    }\n",
       "\n",
       "    .dataframe thead th {\n",
       "        text-align: right;\n",
       "    }\n",
       "</style>\n",
       "<table border=\"1\" class=\"dataframe\">\n",
       "  <thead>\n",
       "    <tr style=\"text-align: right;\">\n",
       "      <th></th>\n",
       "      <th>calendar_dt</th>\n",
       "      <th>hour_local</th>\n",
       "      <th>calendar_dt_hour</th>\n",
       "      <th>poi_id</th>\n",
       "      <th>provider_id</th>\n",
       "      <th>target_group_id</th>\n",
       "      <th>desc_gender</th>\n",
       "      <th>desc_age</th>\n",
       "      <th>min_age</th>\n",
       "      <th>age_bucketized</th>\n",
       "      <th>is_special_dt</th>\n",
       "      <th>is_open</th>\n",
       "      <th>is_in_validation</th>\n",
       "      <th>num_tracking</th>\n",
       "      <th>prediction_type_baseline</th>\n",
       "      <th>prediction_type_evaluation</th>\n",
       "      <th>prediction_baseline</th>\n",
       "      <th>prediction_evaluation</th>\n",
       "      <th>gender_age</th>\n",
       "    </tr>\n",
       "  </thead>\n",
       "  <tbody>\n",
       "    <tr>\n",
       "      <th>0</th>\n",
       "      <td>2022-05-16</td>\n",
       "      <td>6</td>\n",
       "      <td>2022-05-16 06:00</td>\n",
       "      <td>505</td>\n",
       "      <td>6</td>\n",
       "      <td>33</td>\n",
       "      <td>male</td>\n",
       "      <td>NaN</td>\n",
       "      <td>60.0</td>\n",
       "      <td>adults</td>\n",
       "      <td>0</td>\n",
       "      <td>1</td>\n",
       "      <td>NaN</td>\n",
       "      <td>1</td>\n",
       "      <td>prediction</td>\n",
       "      <td>prediction</td>\n",
       "      <td>0.478162</td>\n",
       "      <td>0.526876</td>\n",
       "      <td>male_60</td>\n",
       "    </tr>\n",
       "    <tr>\n",
       "      <th>1</th>\n",
       "      <td>2022-05-16</td>\n",
       "      <td>6</td>\n",
       "      <td>2022-05-16 06:00</td>\n",
       "      <td>522</td>\n",
       "      <td>6</td>\n",
       "      <td>33</td>\n",
       "      <td>male</td>\n",
       "      <td>NaN</td>\n",
       "      <td>60.0</td>\n",
       "      <td>adults</td>\n",
       "      <td>0</td>\n",
       "      <td>1</td>\n",
       "      <td>NaN</td>\n",
       "      <td>0</td>\n",
       "      <td>prediction</td>\n",
       "      <td>prediction</td>\n",
       "      <td>0.445305</td>\n",
       "      <td>0.536574</td>\n",
       "      <td>male_60</td>\n",
       "    </tr>\n",
       "    <tr>\n",
       "      <th>2</th>\n",
       "      <td>2022-05-16</td>\n",
       "      <td>6</td>\n",
       "      <td>2022-05-16 06:00</td>\n",
       "      <td>543</td>\n",
       "      <td>6</td>\n",
       "      <td>33</td>\n",
       "      <td>male</td>\n",
       "      <td>NaN</td>\n",
       "      <td>60.0</td>\n",
       "      <td>adults</td>\n",
       "      <td>0</td>\n",
       "      <td>1</td>\n",
       "      <td>NaN</td>\n",
       "      <td>0</td>\n",
       "      <td>prediction</td>\n",
       "      <td>prediction</td>\n",
       "      <td>0.265008</td>\n",
       "      <td>0.509756</td>\n",
       "      <td>male_60</td>\n",
       "    </tr>\n",
       "    <tr>\n",
       "      <th>3</th>\n",
       "      <td>2022-05-16</td>\n",
       "      <td>6</td>\n",
       "      <td>2022-05-16 06:00</td>\n",
       "      <td>547</td>\n",
       "      <td>6</td>\n",
       "      <td>33</td>\n",
       "      <td>male</td>\n",
       "      <td>NaN</td>\n",
       "      <td>60.0</td>\n",
       "      <td>adults</td>\n",
       "      <td>0</td>\n",
       "      <td>1</td>\n",
       "      <td>NaN</td>\n",
       "      <td>0</td>\n",
       "      <td>prediction</td>\n",
       "      <td>prediction</td>\n",
       "      <td>0.008435</td>\n",
       "      <td>0.000000</td>\n",
       "      <td>male_60</td>\n",
       "    </tr>\n",
       "    <tr>\n",
       "      <th>4</th>\n",
       "      <td>2022-05-16</td>\n",
       "      <td>6</td>\n",
       "      <td>2022-05-16 06:00</td>\n",
       "      <td>423</td>\n",
       "      <td>6</td>\n",
       "      <td>33</td>\n",
       "      <td>male</td>\n",
       "      <td>NaN</td>\n",
       "      <td>60.0</td>\n",
       "      <td>adults</td>\n",
       "      <td>0</td>\n",
       "      <td>1</td>\n",
       "      <td>NaN</td>\n",
       "      <td>1</td>\n",
       "      <td>prediction</td>\n",
       "      <td>prediction</td>\n",
       "      <td>0.002101</td>\n",
       "      <td>0.000000</td>\n",
       "      <td>male_60</td>\n",
       "    </tr>\n",
       "  </tbody>\n",
       "</table>\n",
       "</div>"
      ],
      "text/plain": [
       "  calendar_dt  hour_local  calendar_dt_hour  poi_id  provider_id  \\\n",
       "0  2022-05-16           6  2022-05-16 06:00     505            6   \n",
       "1  2022-05-16           6  2022-05-16 06:00     522            6   \n",
       "2  2022-05-16           6  2022-05-16 06:00     543            6   \n",
       "3  2022-05-16           6  2022-05-16 06:00     547            6   \n",
       "4  2022-05-16           6  2022-05-16 06:00     423            6   \n",
       "\n",
       "   target_group_id desc_gender  desc_age  min_age age_bucketized  \\\n",
       "0               33        male       NaN     60.0         adults   \n",
       "1               33        male       NaN     60.0         adults   \n",
       "2               33        male       NaN     60.0         adults   \n",
       "3               33        male       NaN     60.0         adults   \n",
       "4               33        male       NaN     60.0         adults   \n",
       "\n",
       "   is_special_dt  is_open  is_in_validation  num_tracking  \\\n",
       "0              0        1               NaN             1   \n",
       "1              0        1               NaN             0   \n",
       "2              0        1               NaN             0   \n",
       "3              0        1               NaN             0   \n",
       "4              0        1               NaN             1   \n",
       "\n",
       "  prediction_type_baseline prediction_type_evaluation  prediction_baseline  \\\n",
       "0               prediction                 prediction             0.478162   \n",
       "1               prediction                 prediction             0.445305   \n",
       "2               prediction                 prediction             0.265008   \n",
       "3               prediction                 prediction             0.008435   \n",
       "4               prediction                 prediction             0.002101   \n",
       "\n",
       "   prediction_evaluation gender_age  \n",
       "0               0.526876    male_60  \n",
       "1               0.536574    male_60  \n",
       "2               0.509756    male_60  \n",
       "3               0.000000    male_60  \n",
       "4               0.000000    male_60  "
      ]
     },
     "execution_count": 124,
     "metadata": {},
     "output_type": "execute_result"
    }
   ],
   "source": [
    "post_base_df.head()"
   ]
  },
  {
   "cell_type": "code",
   "execution_count": 173,
   "metadata": {},
   "outputs": [
    {
     "data": {
      "text/plain": [
       "Text(0.5, 1.0, 'Forecast of Age-Gender-Distribution using Transfer Learning')"
      ]
     },
     "execution_count": 173,
     "metadata": {},
     "output_type": "execute_result"
    },
    {
     "data": {
      "image/png": "[encoded data removed]",
      "text/plain": [
       "<Figure size 1080x720 with 1 Axes>"
      ]
     },
     "metadata": {
      "needs_background": "light"
     },
     "output_type": "display_data"
    }
   ],
   "source": [
    "gender_age_model = post_base_df.loc[(post_base_df.prediction_type_evaluation=='prediction')&(post_base_df.gender_age !='unknown_00') ].groupby(['gender_age'])[['num_tracking','prediction_evaluation']].agg({'sum'})\n",
    "gender_age_model_pcts = gender_age_model.apply(lambda x:  100* x / float(x.sum()))\n",
    "ax=gender_age_model_pcts.plot(kind='bar', figsize=(15,10))\n",
    "ax.legend(labels=['label','prediction (transfer-model)'])\n",
    "ax.set_ylabel('No. of Tracking per Age-Gender-Group [%]')\n",
    "ax.set_xlabel('Gender-Age')\n",
    "ax.set_title('Forecast of Age-Gender-Distribution using Transfer Learning')"
   ]
  },
  {
   "cell_type": "code",
   "execution_count": null,
   "metadata": {},
   "outputs": [],
   "source": []
  }
 ],
 "metadata": {
  "kernelspec": {
   "display_name": "Python 3.9.7 ('code_example-tYeYzoY4')",
   "language": "python",
   "name": "python3"
  },
  "language_info": {
   "codemirror_mode": {
    "name": "ipython",
    "version": 3
   },
   "file_extension": ".py",
   "mimetype": "text/x-python",
   "name": "python",
   "nbconvert_exporter": "python",
   "pygments_lexer": "ipython3",
   "version": "3.9.7"
  },
  "orig_nbformat": 4,
  "vscode": {
   "interpreter": {
    "hash": "0ab1dc6fd0d174d5acedd211efad6c8f595c14086f0fe5ad7416cef4ecddc8ec"
   }
  }
 },
 "nbformat": 4,
 "nbformat_minor": 2
}
